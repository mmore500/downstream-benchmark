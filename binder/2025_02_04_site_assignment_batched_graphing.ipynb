{
 "cells": [
  {
   "cell_type": "code",
   "execution_count": null,
   "metadata": {},
   "outputs": [],
   "source": [
    "import pandas as pd\n",
    "import matplotlib.pyplot as plt\n",
    "import seaborn as sns\n",
    "import re\n",
    "%pip install teeplot\n",
    "from teeplot import teeplot as tp\n",
    "\n",
    "\n",
    "\n",
    "\n",
    "\n",
    "# OSF identifier\n",
    "data_id = \"98ch3\"\n",
    "\n",
    "# load CSV file into DataFrame directly from OSF URL\n",
    "df = pd.read_csv(f\"https://osf.io/{data_id}/download\")\n"
   ]
  },
  {
   "cell_type": "code",
   "execution_count": null,
   "metadata": {},
   "outputs": [],
   "source": [
    "def plot_mean_real_execution_time(data):\n",
    "    def parse_call(row_str):\n",
    "        \"\"\"\n",
    "        E.g. \"steady_lookup_ingest_times_batched(S=64, Tsize=256)\"\n",
    "        -> (algo=\"steady\", S=64, Tsize=256)\n",
    "        \"\"\"\n",
    "        algo = row_str.split(\"_lookup_ingest_times_batched\")[0]\n",
    "        match = re.search(r\"S=(\\d+).*Tsize=(\\d+)\", row_str)\n",
    "        if not match:\n",
    "            return algo, None, None\n",
    "        return algo, int(match.group(1)), int(match.group(2))\n",
    "\n",
    "    # load into df\n",
    "    df[\"algorithm\"], df[\"S\"], df[\"Tsize\"] = zip(*df[\"Call To Function\"].map(parse_call))\n",
    "\n",
    "    # convert to microseconds per site\n",
    "    df[\"Real Time Per Site (\u00b5s)\"] = (df[\"Real Execution Time\"] * 1e6) / df[\"S\"]\n",
    "\n",
    "    # Group by algorithm, S and compute mean per-site time\n",
    "    grouped = df.groupby([\"algorithm\", \"S\"], as_index=False)[\"Real Time Per Site (\u00b5s)\"].mean()\n",
    "\n",
    "    # bar plot\n",
    "    plt.figure(figsize=(3, 2))  # these are IRL dimensions\n",
    "\n",
    "    # more bar plot\n",
    "    ax = sns.barplot(data=grouped, x=\"algorithm\", y=\"Real Time Per Site (\u00b5s)\", hue=\"S\", alpha=0.85)\n",
    "\n",
    "    # add labels to the bars\n",
    "    for container in ax.containers:\n",
    "        labels = [int(v.get_height()) if v.get_height() > 0 else '' for v in container]\n",
    "        rotation = 90 if any(label > 150 for label in labels) else 0  # rotate for large values, they clip otherwise\n",
    "        ax.bar_label(container, labels=labels, fmt='%d', fontsize=7, padding=3, rotation=rotation)\n",
    "\n",
    "    # better readability\n",
    "    plt.title(\"Mean Real Execution Time (per site)\", fontsize=8)\n",
    "    plt.xlabel(\"Algorithm\", fontsize=8)\n",
    "    plt.ylabel(\"Per-Site Real Time (\u00b5s)\", fontsize=8)\n",
    "\n",
    "    # rotate x-axis labels\n",
    "    plt.xticks(fontsize=7)\n",
    "    plt.yticks(fontsize=8)\n",
    "\n",
    "    # ylim\n",
    "    ax.set_ylim(0, ax.get_ylim()[1] * 1.2)\n",
    "\n",
    "    # legend\n",
    "    plt.legend(title=\"Surface Size\", title_fontsize=7, fontsize=7, loc=\"upper left\", bbox_to_anchor=(1, 1))\n",
    "\n",
    "    # layout adjustment\n",
    "    plt.subplots_adjust(bottom=0.4)\n",
    "    plt.tight_layout(pad=1)\n",
    "\n",
    "# teeplot\n",
    "tp.tee(plot_mean_real_execution_time, data=df)\n"
   ]
  }
 ],
 "metadata": {
  "colab": {
   "provenance": []
  },
  "kernelspec": {
   "display_name": "Python 3",
   "name": "python3"
  },
  "language_info": {
   "name": "python"
  }
 },
 "nbformat": 4,
 "nbformat_minor": 0
}
