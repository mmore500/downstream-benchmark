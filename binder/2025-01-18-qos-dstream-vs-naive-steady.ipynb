{
 "cells": [
  {
   "cell_type": "code",
   "execution_count": null,
   "metadata": {},
   "outputs": [],
   "source": [
    "%load_ext watermark\n"
   ]
  },
  {
   "cell_type": "code",
   "execution_count": null,
   "metadata": {},
   "outputs": [],
   "source": [
    "import itertools as it\n",
    "import os\n",
    "\n",
    "from downstream import dstream\n",
    "import polars as pl\n",
    "import seaborn as sns\n",
    "from teeplot import teeplot as tp\n",
    "\n",
    "import pylib  # noqa: F401\n"
   ]
  },
  {
   "cell_type": "code",
   "execution_count": null,
   "metadata": {},
   "outputs": [],
   "source": [
    "%watermark -diwmuv -iv\n"
   ]
  },
  {
   "cell_type": "code",
   "execution_count": null,
   "metadata": {},
   "outputs": [],
   "source": [
    "teeplot_subdir = os.environ.get(\n",
    "    \"NOTEBOOK_NAME\", \"2024-10-20-qos-dstream-vs-naive-steady\"\n",
    ")\n",
    "teeplot_subdir\n"
   ]
  },
  {
   "cell_type": "code",
   "execution_count": null,
   "metadata": {},
   "outputs": [],
   "source": [
    "buffer_size = 64\n",
    "num_items = 10_000\n"
   ]
  },
  {
   "cell_type": "markdown",
   "metadata": {},
   "source": [
    "## Define\n"
   ]
  },
  {
   "cell_type": "code",
   "execution_count": null,
   "metadata": {},
   "outputs": [],
   "source": [
    "def calc_max_gaps_naive_greedy(\n",
    "    buffer_size: int, num_ingests: int\n",
    ") -> list[int]:\n",
    "    segment_lengths = []\n",
    "    max_gaps = []\n",
    "    for i in range(num_ingests):\n",
    "        segment_lengths.append(1)\n",
    "        if len(segment_lengths) > buffer_size:\n",
    "            target = min(\n",
    "                reversed(range(buffer_size)),\n",
    "                key=lambda i: segment_lengths[i] + segment_lengths[i + 1],\n",
    "            )\n",
    "            segment_lengths[target] += segment_lengths[target + 1]\n",
    "            segment_lengths.pop(target + 1)\n",
    "        max_gaps.append(max(segment_lengths) - 1)\n",
    "        assert sum(segment_lengths) == i + 1\n",
    "    return max_gaps\n"
   ]
  },
  {
   "cell_type": "code",
   "execution_count": null,
   "metadata": {},
   "outputs": [],
   "source": [
    "def calc_max_gaps_naive_zhao_2006(\n",
    "    buffer_size: int, num_ingests: int\n",
    ") -> list[int]:\n",
    "    segment_lengths = []\n",
    "    max_gaps = []\n",
    "    for i in range(num_ingests):\n",
    "        if len(segment_lengths) < buffer_size:\n",
    "            segment_lengths.append(1)\n",
    "            max_gaps.append(max(segment_lengths) - 1)\n",
    "            continue\n",
    "        if (\n",
    "            len(segment_lengths) > 2\n",
    "            and segment_lengths[-1] < segment_lengths[-2]\n",
    "        ):\n",
    "            segment_lengths[-1] += 1\n",
    "        else:\n",
    "            target = min(\n",
    "                range(buffer_size - 1),\n",
    "                key=lambda i: segment_lengths[i] + segment_lengths[i + 1],\n",
    "            )\n",
    "            segment_lengths[target] += segment_lengths[target + 1]\n",
    "            segment_lengths.pop(target + 1)\n",
    "            segment_lengths.append(1)\n",
    "\n",
    "        assert sum(segment_lengths) == i + 1\n",
    "        max_gaps.append(max(segment_lengths) - 1)\n",
    "    return max_gaps\n"
   ]
  },
  {
   "cell_type": "code",
   "execution_count": null,
   "metadata": {},
   "outputs": [],
   "source": [
    "def calc_max_gaps_dstream(buffer_size: int, num_items: int) -> list[int]:\n",
    "    return [\n",
    "        max(\n",
    "            b - a - 1\n",
    "            for a, b in it.pairwise(\n",
    "                [\n",
    "                    *sorted(\n",
    "                        dstream.steady_algo.lookup_ingest_times_eager(\n",
    "                            buffer_size, i + 1\n",
    "                        ),\n",
    "                    ),\n",
    "                    i,\n",
    "                ],\n",
    "            )\n",
    "        )\n",
    "        if i >= buffer_size\n",
    "        else 0\n",
    "        for i in range(num_items)\n",
    "    ]\n"
   ]
  },
  {
   "cell_type": "markdown",
   "metadata": {},
   "source": [
    "## Example Plot\n"
   ]
  },
  {
   "cell_type": "code",
   "execution_count": null,
   "metadata": {},
   "outputs": [],
   "source": [
    "df = pl.concat(\n",
    "    [\n",
    "        pl.DataFrame(\n",
    "            {\n",
    "                \"Algorithm\": \"naive steady Zhao06\",\n",
    "                \"Max Gap Size\": calc_max_gaps_naive_zhao_2006(\n",
    "                    buffer_size, num_items\n",
    "                ),\n",
    "                \"Num Items Ingested\": range(num_items),\n",
    "            },\n",
    "        ),\n",
    "        pl.DataFrame(\n",
    "            {\n",
    "                \"Algorithm\": \"naive steady greedy\",\n",
    "                \"Max Gap Size\": calc_max_gaps_naive_greedy(\n",
    "                    buffer_size, num_items\n",
    "                ),\n",
    "                \"Num Items Ingested\": range(num_items),\n",
    "            },\n",
    "        ),\n",
    "        pl.DataFrame(\n",
    "            {\n",
    "                \"Algorithm\": \"dstream steady\",\n",
    "                \"Max Gap Size\": calc_max_gaps_dstream(buffer_size, num_items),\n",
    "                \"Num Items Ingested\": range(num_items),\n",
    "            },\n",
    "        ),\n",
    "    ],\n",
    ")\n"
   ]
  },
  {
   "cell_type": "code",
   "execution_count": null,
   "metadata": {},
   "outputs": [],
   "source": [
    "with tp.teed(\n",
    "    sns.relplot,\n",
    "    df,\n",
    "    x=\"Num Items Ingested\",\n",
    "    y=\"Max Gap Size\",\n",
    "    hue=\"Algorithm\",\n",
    "    style=\"Algorithm\",\n",
    "    aspect=2,\n",
    "    kind=\"line\",\n",
    "    height=2.2,\n",
    "    teeplot_subdir=teeplot_subdir,\n",
    ") as g:\n",
    "    sns.move_legend(\n",
    "        g,\n",
    "        \"lower center\",\n",
    "        bbox_to_anchor=(0.4, 1),\n",
    "        ncol=2,\n",
    "        title=None,\n",
    "        frameon=False,\n",
    "    )\n"
   ]
  }
 ],
 "metadata": {
  "kernelspec": {
   "display_name": "env310",
   "language": "python",
   "name": "python3"
  },
  "language_info": {
   "codemirror_mode": {
    "name": "ipython",
    "version": 3
   },
   "file_extension": ".py",
   "mimetype": "text/x-python",
   "name": "python",
   "nbconvert_exporter": "python",
   "pygments_lexer": "ipython3"
  }
 },
 "nbformat": 4,
 "nbformat_minor": 2
}
