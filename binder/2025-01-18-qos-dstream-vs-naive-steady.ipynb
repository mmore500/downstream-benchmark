{
 "cells": [
  {
   "cell_type": "code",
   "execution_count": 1,
   "metadata": {
    "execution": {
     "iopub.execute_input": "2025-01-19T17:02:11.655288Z",
     "iopub.status.busy": "2025-01-19T17:02:11.654808Z",
     "iopub.status.idle": "2025-01-19T17:02:11.667003Z",
     "shell.execute_reply": "2025-01-19T17:02:11.666538Z"
    }
   },
   "outputs": [],
   "source": [
    "%load_ext watermark\n"
   ]
  },
  {
   "cell_type": "code",
   "execution_count": 2,
   "metadata": {
    "execution": {
     "iopub.execute_input": "2025-01-19T17:02:11.668788Z",
     "iopub.status.busy": "2025-01-19T17:02:11.668449Z",
     "iopub.status.idle": "2025-01-19T17:02:14.358893Z",
     "shell.execute_reply": "2025-01-19T17:02:14.358294Z"
    }
   },
   "outputs": [],
   "source": [
    "import itertools as it\n",
    "import os\n",
    "\n",
    "from downstream import dstream\n",
    "import polars as pl\n",
    "import seaborn as sns\n",
    "from teeplot import teeplot as tp\n",
    "\n",
    "import pylib  # noqa: F401\n"
   ]
  },
  {
   "cell_type": "code",
   "execution_count": 3,
   "metadata": {
    "execution": {
     "iopub.execute_input": "2025-01-19T17:02:14.361099Z",
     "iopub.status.busy": "2025-01-19T17:02:14.360681Z",
     "iopub.status.idle": "2025-01-19T17:02:14.370296Z",
     "shell.execute_reply": "2025-01-19T17:02:14.369736Z"
    }
   },
   "outputs": [
    {
     "name": "stdout",
     "output_type": "stream",
     "text": [
      "Last updated: 2025-01-19T17:02:14.362098+00:00\n",
      "\n",
      "Python implementation: CPython\n",
      "Python version       : 3.10.12\n",
      "IPython version      : 7.31.1\n",
      "\n",
      "Compiler    : GCC 11.4.0\n",
      "OS          : Linux\n",
      "Release     : 6.5.0-1025-azure\n",
      "Machine     : x86_64\n",
      "Processor   : x86_64\n",
      "CPU cores   : 4\n",
      "Architecture: 64bit\n",
      "\n",
      "seaborn   : 0.13.2\n",
      "polars    : 1.9.0\n",
      "pylib     : 0.0.0\n",
      "teeplot   : 1.2.0\n",
      "downstream: 1.6.2\n",
      "\n",
      "Watermark: 2.4.3\n",
      "\n"
     ]
    }
   ],
   "source": [
    "%watermark -diwmuv -iv\n"
   ]
  },
  {
   "cell_type": "code",
   "execution_count": 4,
   "metadata": {
    "execution": {
     "iopub.execute_input": "2025-01-19T17:02:14.396197Z",
     "iopub.status.busy": "2025-01-19T17:02:14.396013Z",
     "iopub.status.idle": "2025-01-19T17:02:14.401479Z",
     "shell.execute_reply": "2025-01-19T17:02:14.400917Z"
    }
   },
   "outputs": [
    {
     "data": {
      "text/plain": [
       "'2025-01-18-qos-dstream-vs-naive-steady'"
      ]
     },
     "execution_count": 4,
     "metadata": {},
     "output_type": "execute_result"
    }
   ],
   "source": [
    "teeplot_subdir = os.environ.get(\n",
    "    \"NOTEBOOK_NAME\", \"2024-10-20-qos-dstream-vs-naive-steady\"\n",
    ")\n",
    "teeplot_subdir\n"
   ]
  },
  {
   "cell_type": "code",
   "execution_count": 5,
   "metadata": {
    "execution": {
     "iopub.execute_input": "2025-01-19T17:02:14.403145Z",
     "iopub.status.busy": "2025-01-19T17:02:14.402968Z",
     "iopub.status.idle": "2025-01-19T17:02:14.405590Z",
     "shell.execute_reply": "2025-01-19T17:02:14.405132Z"
    }
   },
   "outputs": [],
   "source": [
    "buffer_size = 64\n",
    "num_items = 10_000\n"
   ]
  },
  {
   "cell_type": "markdown",
   "metadata": {},
   "source": [
    "## Define\n"
   ]
  },
  {
   "cell_type": "code",
   "execution_count": 6,
   "metadata": {
    "execution": {
     "iopub.execute_input": "2025-01-19T17:02:14.407287Z",
     "iopub.status.busy": "2025-01-19T17:02:14.407115Z",
     "iopub.status.idle": "2025-01-19T17:02:14.410912Z",
     "shell.execute_reply": "2025-01-19T17:02:14.410405Z"
    }
   },
   "outputs": [],
   "source": [
    "def calc_max_gaps_naive_greedy(\n",
    "    buffer_size: int, num_ingests: int\n",
    ") -> list[int]:\n",
    "    segment_lengths = []\n",
    "    max_gaps = []\n",
    "    for i in range(num_ingests):\n",
    "        segment_lengths.append(1)\n",
    "        if len(segment_lengths) > buffer_size:\n",
    "            target = min(\n",
    "                reversed(range(buffer_size)),\n",
    "                key=lambda i: segment_lengths[i] + segment_lengths[i + 1],\n",
    "            )\n",
    "            segment_lengths[target] += segment_lengths[target + 1]\n",
    "            segment_lengths.pop(target + 1)\n",
    "        max_gaps.append(max(segment_lengths) - 1)\n",
    "        assert sum(segment_lengths) == i + 1\n",
    "    return max_gaps\n"
   ]
  },
  {
   "cell_type": "code",
   "execution_count": 7,
   "metadata": {
    "execution": {
     "iopub.execute_input": "2025-01-19T17:02:14.412550Z",
     "iopub.status.busy": "2025-01-19T17:02:14.412365Z",
     "iopub.status.idle": "2025-01-19T17:02:14.416573Z",
     "shell.execute_reply": "2025-01-19T17:02:14.416119Z"
    }
   },
   "outputs": [],
   "source": [
    "def calc_max_gaps_naive_zhao_2006(\n",
    "    buffer_size: int, num_ingests: int\n",
    ") -> list[int]:\n",
    "    segment_lengths = []\n",
    "    max_gaps = []\n",
    "    for i in range(num_ingests):\n",
    "        if len(segment_lengths) < buffer_size:\n",
    "            segment_lengths.append(1)\n",
    "            max_gaps.append(max(segment_lengths) - 1)\n",
    "            continue\n",
    "        if (\n",
    "            len(segment_lengths) > 2\n",
    "            and segment_lengths[-1] < segment_lengths[-2]\n",
    "        ):\n",
    "            segment_lengths[-1] += 1\n",
    "        else:\n",
    "            target = min(\n",
    "                range(buffer_size - 1),\n",
    "                key=lambda i: segment_lengths[i] + segment_lengths[i + 1],\n",
    "            )\n",
    "            segment_lengths[target] += segment_lengths[target + 1]\n",
    "            segment_lengths.pop(target + 1)\n",
    "            segment_lengths.append(1)\n",
    "\n",
    "        assert sum(segment_lengths) == i + 1\n",
    "        max_gaps.append(max(segment_lengths) - 1)\n",
    "    return max_gaps\n"
   ]
  },
  {
   "cell_type": "code",
   "execution_count": 8,
   "metadata": {
    "execution": {
     "iopub.execute_input": "2025-01-19T17:02:14.418167Z",
     "iopub.status.busy": "2025-01-19T17:02:14.417993Z",
     "iopub.status.idle": "2025-01-19T17:02:14.421376Z",
     "shell.execute_reply": "2025-01-19T17:02:14.420903Z"
    }
   },
   "outputs": [],
   "source": [
    "def calc_max_gaps_dstream(buffer_size: int, num_items: int) -> list[int]:\n",
    "    return [\n",
    "        max(\n",
    "            b - a - 1\n",
    "            for a, b in it.pairwise(\n",
    "                [\n",
    "                    *sorted(\n",
    "                        dstream.steady_algo.lookup_ingest_times_eager(\n",
    "                            buffer_size, i + 1\n",
    "                        ),\n",
    "                    ),\n",
    "                    i,\n",
    "                ],\n",
    "            )\n",
    "        )\n",
    "        if i >= buffer_size\n",
    "        else 0\n",
    "        for i in range(num_items)\n",
    "    ]\n"
   ]
  },
  {
   "cell_type": "markdown",
   "metadata": {},
   "source": [
    "## Example Plot\n"
   ]
  },
  {
   "cell_type": "code",
   "execution_count": 9,
   "metadata": {
    "execution": {
     "iopub.execute_input": "2025-01-19T17:02:14.423177Z",
     "iopub.status.busy": "2025-01-19T17:02:14.422826Z",
     "iopub.status.idle": "2025-01-19T17:02:15.027678Z",
     "shell.execute_reply": "2025-01-19T17:02:15.027116Z"
    }
   },
   "outputs": [],
   "source": [
    "df = pl.concat(\n",
    "    [\n",
    "        pl.DataFrame(\n",
    "            {\n",
    "                # \"Algorithm\": \"naive steady Zhao06\",\n",
    "                \"Algorithm\": \"naive steady\",\n",
    "                \"Max Gap Size\": calc_max_gaps_naive_zhao_2006(\n",
    "                    buffer_size, num_items\n",
    "                ),\n",
    "                \"Num Items Ingested\": range(num_items),\n",
    "            },\n",
    "        ),\n",
    "        pl.DataFrame(\n",
    "            {\n",
    "                \"Algorithm\": \"naive steady greedy\",\n",
    "                \"Max Gap Size\": calc_max_gaps_naive_greedy(\n",
    "                    buffer_size, num_items\n",
    "                ),\n",
    "                \"Num Items Ingested\": range(num_items),\n",
    "            },\n",
    "        ),\n",
    "        pl.DataFrame(\n",
    "            {\n",
    "                \"Algorithm\": \"dstream steady\",\n",
    "                \"Max Gap Size\": calc_max_gaps_dstream(buffer_size, num_items),\n",
    "                \"Num Items Ingested\": range(num_items),\n",
    "            },\n",
    "        ),\n",
    "    ],\n",
    ")\n"
   ]
  },
  {
   "cell_type": "code",
   "execution_count": 10,
   "metadata": {
    "execution": {
     "iopub.execute_input": "2025-01-19T17:02:15.029820Z",
     "iopub.status.busy": "2025-01-19T17:02:15.029472Z",
     "iopub.status.idle": "2025-01-19T17:02:16.333247Z",
     "shell.execute_reply": "2025-01-19T17:02:16.332690Z"
    }
   },
   "outputs": [
    {
     "name": "stdout",
     "output_type": "stream",
     "text": [
      "teeplots/2025-01-18-qos-dstream-vs-naive-steady/exclude=naive steady greedy+hue=algorithm+kind=line+style=algorithm+viz=relplot+x=num-items-ingested+y=max-gap-size+ext=.pdf\n",
      "teeplots/2025-01-18-qos-dstream-vs-naive-steady/exclude=naive steady greedy+hue=algorithm+kind=line+style=algorithm+viz=relplot+x=num-items-ingested+y=max-gap-size+ext=.png\n"
     ]
    },
    {
     "data": {
      "image/png": "[encoded data removed]",
      "text/plain": [
       "<Figure size 598.875x220 with 1 Axes>"
      ]
     },
     "metadata": {},
     "output_type": "display_data"
    },
    {
     "name": "stdout",
     "output_type": "stream",
     "text": [
      "teeplots/2025-01-18-qos-dstream-vs-naive-steady/exclude=+hue=algorithm+kind=line+style=algorithm+viz=relplot+x=num-items-ingested+y=max-gap-size+ext=.pdf\n",
      "teeplots/2025-01-18-qos-dstream-vs-naive-steady/exclude=+hue=algorithm+kind=line+style=algorithm+viz=relplot+x=num-items-ingested+y=max-gap-size+ext=.png\n"
     ]
    },
    {
     "data": {
      "image/png": "[encoded data removed]",
      "text/plain": [
       "<Figure size 632.125x220 with 1 Axes>"
      ]
     },
     "metadata": {},
     "output_type": "display_data"
    }
   ],
   "source": [
    "for exclude in [\"naive steady greedy\", \"\"]:\n",
    "    with tp.teed(\n",
    "        sns.relplot,\n",
    "        df.filter(\n",
    "            pl.col(\"Algorithm\") != exclude,\n",
    "        ),\n",
    "        x=\"Num Items Ingested\",\n",
    "        y=\"Max Gap Size\",\n",
    "        hue=\"Algorithm\",\n",
    "        style=\"Algorithm\",\n",
    "        aspect=2,\n",
    "        kind=\"line\",\n",
    "        height=2.2,\n",
    "        teeplot_outattrs={\"exclude\": exclude},\n",
    "        teeplot_subdir=teeplot_subdir,\n",
    "    ) as g:\n",
    "        sns.move_legend(\n",
    "            g,\n",
    "            \"lower center\",\n",
    "            bbox_to_anchor=(0.4, 1),\n",
    "            ncol=2,\n",
    "            title=None,\n",
    "            frameon=False,\n",
    "        )\n"
   ]
  }
 ],
 "metadata": {
  "kernelspec": {
   "display_name": "env310",
   "language": "python",
   "name": "python3"
  },
  "language_info": {
   "codemirror_mode": {
    "name": "ipython",
    "version": 3
   },
   "file_extension": ".py",
   "mimetype": "text/x-python",
   "name": "python",
   "nbconvert_exporter": "python",
   "pygments_lexer": "ipython3",
   "version": "3.10.12"
  }
 },
 "nbformat": 4,
 "nbformat_minor": 2
}
