{
 "cells": [
  {
   "cell_type": "code",
   "execution_count": 1,
   "metadata": {
    "execution": {
     "iopub.execute_input": "2025-07-21T04:49:52.317700Z",
     "iopub.status.busy": "2025-07-21T04:49:52.317518Z",
     "iopub.status.idle": "2025-07-21T04:50:04.598246Z",
     "shell.execute_reply": "2025-07-21T04:50:04.597574Z"
    }
   },
   "outputs": [
    {
     "name": "stderr",
     "output_type": "stream",
     "text": [
      "Matplotlib is building the font cache; this may take a moment.\n"
     ]
    },
    {
     "name": "stdout",
     "output_type": "stream",
     "text": [
      "Defaulting to user installation because normal site-packages is not writeable\r\n",
      "Requirement already satisfied: teeplot in /usr/local/lib/python3.10/dist-packages (1.4.2)\r\n",
      "Requirement already satisfied: keyname in /usr/local/lib/python3.10/dist-packages (from teeplot) (0.6.0)\r\n",
      "Requirement already satisfied: matplotlib in /usr/local/lib/python3.10/dist-packages (from teeplot) (3.10.0)\r\n",
      "Requirement already satisfied: python-slugify in /usr/local/lib/python3.10/dist-packages (from teeplot) (8.0.4)\r\n",
      "Requirement already satisfied: distutils-strtobool in /usr/local/lib/python3.10/dist-packages (from teeplot) (0.1.0)\r\n",
      "Requirement already satisfied: typing-extensions in /usr/local/lib/python3.10/dist-packages (from teeplot) (4.12.2)\r\n",
      "Requirement already satisfied: Click>=6.0 in /usr/local/lib/python3.10/dist-packages (from keyname->teeplot) (8.1.8)\r\n",
      "Requirement already satisfied: more-itertools>=8.14.0 in /usr/local/lib/python3.10/dist-packages (from keyname->teeplot) (9.1.0)\r\n",
      "Requirement already satisfied: retry>=0.9.2 in /usr/local/lib/python3.10/dist-packages (from keyname->teeplot) (0.9.2)\r\n",
      "Requirement already satisfied: decorator>=3.4.2 in /usr/local/lib/python3.10/dist-packages (from retry>=0.9.2->keyname->teeplot) (5.2.1)\r\n",
      "Requirement already satisfied: py<2.0.0,>=1.4.26 in /usr/local/lib/python3.10/dist-packages (from retry>=0.9.2->keyname->teeplot) (1.11.0)\r\n",
      "Requirement already satisfied: contourpy>=1.0.1 in /usr/local/lib/python3.10/dist-packages (from matplotlib->teeplot) (1.3.1)\r\n",
      "Requirement already satisfied: cycler>=0.10 in /usr/local/lib/python3.10/dist-packages (from matplotlib->teeplot) (0.12.1)\r\n",
      "Requirement already satisfied: fonttools>=4.22.0 in /usr/local/lib/python3.10/dist-packages (from matplotlib->teeplot) (4.56.0)\r\n",
      "Requirement already satisfied: kiwisolver>=1.3.1 in /usr/local/lib/python3.10/dist-packages (from matplotlib->teeplot) (1.4.8)\r\n",
      "Requirement already satisfied: numpy>=1.23 in /usr/local/lib/python3.10/dist-packages (from matplotlib->teeplot) (2.1.2)\r\n",
      "Requirement already satisfied: packaging>=20.0 in /usr/local/lib/python3.10/dist-packages (from matplotlib->teeplot) (24.2)\r\n",
      "Requirement already satisfied: pillow>=8 in /usr/local/lib/python3.10/dist-packages (from matplotlib->teeplot) (11.1.0)\r\n",
      "Requirement already satisfied: pyparsing>=2.3.1 in /usr/local/lib/python3.10/dist-packages (from matplotlib->teeplot) (3.2.1)\r\n",
      "Requirement already satisfied: python-dateutil>=2.7 in /usr/local/lib/python3.10/dist-packages (from matplotlib->teeplot) (2.9.0.post0)\r\n",
      "Requirement already satisfied: six>=1.5 in /usr/local/lib/python3.10/dist-packages (from python-dateutil>=2.7->matplotlib->teeplot) (1.17.0)\r\n",
      "Requirement already satisfied: text-unidecode>=1.3 in /usr/local/lib/python3.10/dist-packages (from python-slugify->teeplot) (1.3)\r\n",
      "Note: you may need to restart the kernel to use updated packages.\n"
     ]
    }
   ],
   "source": [
    "import pandas as pd\n",
    "import matplotlib.pyplot as plt\n",
    "import seaborn as sns\n",
    "%pip install teeplot\n",
    "from teeplot import teeplot as tp\n",
    "from matplotlib.patches import Patch\n",
    "from scipy.stats import kruskal\n",
    "from IPython.display import display\n",
    "\n",
    "\n",
    "\n",
    "\n",
    "\n",
    "\n",
    "# OSF identifier\n",
    "data_id = \"z54jc\"\n",
    "\n",
    "# load CSV file into DataFrame directly from OSF URL\n",
    "df = pd.read_csv(f\"https://osf.io/{data_id}/download\")\n"
   ]
  },
  {
   "cell_type": "code",
   "execution_count": 2,
   "metadata": {
    "execution": {
     "iopub.execute_input": "2025-07-21T04:50:04.600754Z",
     "iopub.status.busy": "2025-07-21T04:50:04.600336Z",
     "iopub.status.idle": "2025-07-21T04:50:05.750551Z",
     "shell.execute_reply": "2025-07-21T04:50:05.750025Z"
    }
   },
   "outputs": [
    {
     "name": "stderr",
     "output_type": "stream",
     "text": [
      "/tmp/ipykernel_10262/1613482059.py:13: SettingWithCopyWarning: \n",
      "A value is trying to be set on a copy of a slice from a DataFrame.\n",
      "Try using .loc[row_indexer,col_indexer] = value instead\n",
      "\n",
      "See the caveats in the documentation: https://pandas.pydata.org/pandas-docs/stable/user_guide/indexing.html#returning-a-view-versus-a-copy\n",
      "  data[\"S\"] = data[\"Surface Size (S)\"]\n",
      "/tmp/ipykernel_10262/1613482059.py:14: SettingWithCopyWarning: \n",
      "A value is trying to be set on a copy of a slice from a DataFrame.\n",
      "Try using .loc[row_indexer,col_indexer] = value instead\n",
      "\n",
      "See the caveats in the documentation: https://pandas.pydata.org/pandas-docs/stable/user_guide/indexing.html#returning-a-view-versus-a-copy\n",
      "  data[\"Tsize\"] = data[\"T Size\"]\n",
      "/tmp/ipykernel_10262/1613482059.py:17: SettingWithCopyWarning: \n",
      "A value is trying to be set on a copy of a slice from a DataFrame.\n",
      "Try using .loc[row_indexer,col_indexer] = value instead\n",
      "\n",
      "See the caveats in the documentation: https://pandas.pydata.org/pandas-docs/stable/user_guide/indexing.html#returning-a-view-versus-a-copy\n",
      "  data[\"Real Time Per Site (ns)\"] = (\n"
     ]
    },
    {
     "data": {
      "text/html": [
       "<div>\n",
       "<style scoped>\n",
       "    .dataframe tbody tr th:only-of-type {\n",
       "        vertical-align: middle;\n",
       "    }\n",
       "\n",
       "    .dataframe tbody tr th {\n",
       "        vertical-align: top;\n",
       "    }\n",
       "\n",
       "    .dataframe thead th {\n",
       "        text-align: right;\n",
       "    }\n",
       "</style>\n",
       "<table border=\"1\" class=\"dataframe\">\n",
       "  <thead>\n",
       "    <tr style=\"text-align: right;\">\n",
       "      <th></th>\n",
       "      <th>Algorithm</th>\n",
       "      <th>H-statistic</th>\n",
       "      <th>p-value</th>\n",
       "    </tr>\n",
       "  </thead>\n",
       "  <tbody>\n",
       "    <tr>\n",
       "      <th>0</th>\n",
       "      <td>steady</td>\n",
       "      <td>2.119</td>\n",
       "      <td>0.346634</td>\n",
       "    </tr>\n",
       "    <tr>\n",
       "      <th>1</th>\n",
       "      <td>stretched</td>\n",
       "      <td>2.650</td>\n",
       "      <td>0.265756</td>\n",
       "    </tr>\n",
       "    <tr>\n",
       "      <th>2</th>\n",
       "      <td>tilted</td>\n",
       "      <td>12.920</td>\n",
       "      <td>0.001565</td>\n",
       "    </tr>\n",
       "  </tbody>\n",
       "</table>\n",
       "</div>"
      ],
      "text/plain": [
       "   Algorithm  H-statistic   p-value\n",
       "0     steady        2.119  0.346634\n",
       "1  stretched        2.650  0.265756\n",
       "2     tilted       12.920  0.001565"
      ]
     },
     "metadata": {},
     "output_type": "display_data"
    },
    {
     "name": "stdout",
     "output_type": "stream",
     "text": [
      "teeplots/hue=s+viz=plot-mean-real-execution-time-ps+x=algorithm+y=real-time-per-site-ns+ext=.pdf\n",
      "teeplots/hue=s+viz=plot-mean-real-execution-time-ps+x=algorithm+y=real-time-per-site-ns+ext=.png\n"
     ]
    },
    {
     "data": {
      "image/png": "[encoded data removed]",
      "text/plain": [
       "<Figure size 300x200 with 1 Axes>"
      ]
     },
     "metadata": {},
     "output_type": "display_data"
    }
   ],
   "source": [
    "\n",
    "\n",
    "def plot_mean_real_execution_time_ps(data, **kwargs):\n",
    "    # rename the algorithm labels\n",
    "    data[\"algorithm\"] = data[\"Algorithm\"].replace({\n",
    "        \"steady_assign_storage_site_batched\": \"steady\",\n",
    "        \"stretched_assign_storage_site_batched\": \"stretched\",\n",
    "        \"tilted_assign_storage_site_batched\": \"tilted\",\n",
    "    })\n",
    "\n",
    "    # filter to only include rows where T Upper Bound == 2^32\n",
    "    data = data[data[\"T Upper Bound\"] == 4294967296]\n",
    "\n",
    "    # assign S and Tsize directly\n",
    "    data[\"S\"] = data[\"Surface Size (S)\"]\n",
    "    data[\"Tsize\"] = data[\"T Size\"]\n",
    "\n",
    "    # convert to nanoseconds per site\n",
    "    data[\"Real Time Per Site (ns)\"] = (\n",
    "        data[\"Real Execution Time\"] * 1e9\n",
    "        / data[\"Tsize\"]\n",
    "    )\n",
    "\n",
    "    # perform Kruskal-Wallis test per algorithm, comparing across surface sizes\n",
    "    kruskal_results = []\n",
    "    for algo, grp in data.groupby(\"algorithm\"):\n",
    "        # gather Real Time values for each surface size within this algorithm\n",
    "        samples = [g[\"Real Time Per Site (ns)\"].values for _, g in grp.groupby(\"S\")]\n",
    "        if len(samples) > 1:\n",
    "            stat, p_val = kruskal(*samples)\n",
    "        else:\n",
    "            stat, p_val = float('nan'), float('nan')\n",
    "\n",
    "        kruskal_results.append({\n",
    "            \"Algorithm\": algo,\n",
    "            \"H-statistic\": round(stat, 3) if not pd.isna(stat) else stat,\n",
    "            \"p-value\": p_val\n",
    "        })\n",
    "\n",
    "    # build & display the results table\n",
    "    kruskal_df = pd.DataFrame(kruskal_results)\n",
    "    display(kruskal_df)\n",
    "\n",
    "\n",
    "    # group by algorithm, S and compute mean per-site time\n",
    "    # grouped = data.groupby([\"algorithm\", \"S\"], as_index=False)[\"Real Time Per Site (ns)\"].mean()\n",
    "\n",
    "    # bar plot\n",
    "    plt.figure(figsize=(3, 2))  # these are IRL dimensions\n",
    "    ax = sns.barplot(data=data, **kwargs, alpha=0.85, palette='Wistia')\n",
    "\n",
    "    # Remove top and right spines\n",
    "    ax.spines['top'].set_visible(False)\n",
    "    ax.spines['right'].set_visible(False)\n",
    "\n",
    "    # add labels to the bars\n",
    "    for container in ax.containers:\n",
    "        labels = [int(v.get_height()) if v.get_height() > 0 else '' for v in container]\n",
    "        ax.bar_label(container, labels=labels, fmt='%d', fontsize=7, padding=3, rotation=90, label_type = 'center')\n",
    "\n",
    "    # better readability\n",
    "    plt.xlabel(\"Algorithm\", fontsize=8)\n",
    "    plt.ylabel(\"Per-Site Real Time (ns)\", fontsize=8)\n",
    "\n",
    "    # keep x-axis labels horizontal\n",
    "    plt.xticks(fontsize=7, rotation=0)\n",
    "    plt.yticks(fontsize=8)\n",
    "\n",
    "    # ylim adjustment\n",
    "    ax.set_ylim(0, ax.get_ylim()[1] * 1.2)\n",
    "\n",
    "    # legend\n",
    "    handles, labels = ax.get_legend_handles_labels()\n",
    "\n",
    "    # Rebuild square patch handles from the bar containers\n",
    "    colors = [bar.patches[0].get_facecolor() for bar in ax.containers[:3]]\n",
    "    color_handles = [Patch(facecolor=c, edgecolor='black') for c in colors]\n",
    "\n",
    "    # Create a dummy handle for inline title\n",
    "    title_handle = Patch(facecolor='none', edgecolor='none')\n",
    "    legend_handles = [title_handle] + color_handles\n",
    "    legend_labels = [r\"$\\it{Surface\\;Size}$\"] + labels  # italic + spacing\n",
    "\n",
    "    # legend\n",
    "    plt.legend(\n",
    "        handles=legend_handles,\n",
    "        labels=legend_labels,\n",
    "        fontsize=8,\n",
    "        loc=\"lower center\",\n",
    "        bbox_to_anchor=(0.45, 1.02),\n",
    "        ncol=4,\n",
    "        columnspacing=1.2,\n",
    "        handletextpad=0.5,\n",
    "        frameon=False\n",
    "    )\n",
    "\n",
    "    # layout adjustment\n",
    "    plt.subplots_adjust(bottom=0.4)\n",
    "    plt.tight_layout(pad=1)\n",
    "\n",
    "\n",
    "# teeplot\n",
    "tp.tee(plot_mean_real_execution_time_ps, data=df, x=\"algorithm\", y=\"Real Time Per Site (ns)\", hue=\"S\")\n"
   ]
  }
 ],
 "metadata": {
  "colab": {
   "provenance": []
  },
  "kernelspec": {
   "display_name": "Python 3",
   "name": "python3"
  },
  "language_info": {
   "codemirror_mode": {
    "name": "ipython",
    "version": 3
   },
   "file_extension": ".py",
   "mimetype": "text/x-python",
   "name": "python",
   "nbconvert_exporter": "python",
   "pygments_lexer": "ipython3",
   "version": "3.10.12"
  }
 },
 "nbformat": 4,
 "nbformat_minor": 0
}
