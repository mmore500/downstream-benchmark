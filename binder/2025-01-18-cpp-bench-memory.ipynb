{
 "cells": [
  {
   "cell_type": "code",
   "execution_count": null,
   "metadata": {},
   "outputs": [],
   "source": [
    "%load_ext watermark\n"
   ]
  },
  {
   "cell_type": "code",
   "execution_count": null,
   "metadata": {},
   "outputs": [],
   "source": [
    "import os\n",
    "\n",
    "from IPython.display import display\n",
    "import pandas as pd\n",
    "import polars as pl\n",
    "import seaborn as sns\n",
    "from teeplot import teeplot as tp\n"
   ]
  },
  {
   "cell_type": "code",
   "execution_count": null,
   "metadata": {},
   "outputs": [],
   "source": [
    "%watermark -diwmuv -iv\n"
   ]
  },
  {
   "cell_type": "code",
   "execution_count": null,
   "metadata": {},
   "outputs": [],
   "source": [
    "teeplot_subdir = os.environ.get(\"NOTEBOOK_NAME\", \"2025-01-18-cpp-bench-memory\")\n",
    "teeplot_subdir\n"
   ]
  },
  {
   "cell_type": "markdown",
   "metadata": {},
   "source": [
    "## Prep Data\n"
   ]
  },
  {
   "cell_type": "code",
   "execution_count": null,
   "metadata": {},
   "outputs": [],
   "source": [
    "df = pl.concat(\n",
    "    [\n",
    "        pl.read_csv(\"https://osf.io/m6wne/download\"),\n",
    "        pl.read_csv(\"https://osf.io/sb4zw/download\"),\n",
    "    ],\n",
    ")\n",
    "df = (\n",
    "    df.cast(\n",
    "        {\n",
    "            \"memory_bytes\": pl.Int32,\n",
    "            \"num_items\": pl.Int32,\n",
    "            \"num_sites\": pl.Int32,\n",
    "            \"duration_s\": pl.Float64,\n",
    "            \"replicate\": pl.Int32,\n",
    "        },\n",
    "    )\n",
    "    .with_columns(\n",
    "        duration_per_item_ns=(\n",
    "            pl.col(\"duration_s\") * 1_000_000_000 / pl.col(\"num_items\")\n",
    "        )\n",
    "    )\n",
    "    .with_columns(\n",
    "        algorithm=pl.col(\"algo_name\").map_elements(\n",
    "            {\n",
    "                \"control_ring_algo\": \"control: ringbuf\",\n",
    "                \"control_throwaway_algo\": \"control: discard\",\n",
    "                \"dstream.steady_algo\": \"dstream steady\",\n",
    "                \"dstream.stretched_algo\": \"dstream stretched\",\n",
    "                \"dstream.tilted_algo\": \"dstream tilted\",\n",
    "                \"naive_steady_algo\": \"naive steady\",\n",
    "            }.__getitem__,\n",
    "            return_dtype=str,\n",
    "        )\n",
    "    )\n",
    ")\n",
    "\n",
    "display(df.describe()), display(df.head()), display(df.tail());\n"
   ]
  },
  {
   "cell_type": "markdown",
   "metadata": {},
   "source": [
    "## Plot\n"
   ]
  },
  {
   "cell_type": "markdown",
   "metadata": {},
   "source": [
    "## Memory Use\n"
   ]
  },
  {
   "cell_type": "code",
   "execution_count": null,
   "metadata": {},
   "outputs": [],
   "source": [
    "with tp.teed(\n",
    "    sns.relplot,\n",
    "    data=df,\n",
    "    x=\"num_sites\",\n",
    "    y=\"memory_bytes\",\n",
    "    hue=\"algo_name\",\n",
    "    col=\"num_items\",\n",
    "    palette=\"muted\",\n",
    "    kind=\"line\",\n",
    "    errorbar=(\"pi\", 100),\n",
    "    teeplot_subdir=teeplot_subdir,\n",
    ") as g:\n",
    "    g.set(xscale=\"log\", yscale=\"log\")\n"
   ]
  },
  {
   "cell_type": "code",
   "execution_count": null,
   "metadata": {},
   "outputs": [],
   "source": [
    "# Plot speedup\n",
    "with tp.teed(\n",
    "    sns.catplot,\n",
    "    data=df.filter(\n",
    "        pl.col(\"algo_name\").is_in(\n",
    "            [\n",
    "                \"dstream.steady_algo\",\n",
    "                \"naive_steady_algo\",\n",
    "            ],\n",
    "        ),\n",
    "    ).with_columns(\n",
    "        strategy=pl.col(\"algo_name\").map_elements(\n",
    "            {\n",
    "                \"dstream.steady_algo\": \"dstream\",\n",
    "                \"naive_steady_algo\": \"naive\",\n",
    "            }.__getitem__,\n",
    "            return_dtype=str,\n",
    "        ),\n",
    "    ),\n",
    "    x=\"num_sites\",\n",
    "    y=\"memory_bytes\",\n",
    "    hue=\"strategy\",\n",
    "    kind=\"bar\",\n",
    "    aspect=1.5,\n",
    "    height=2,\n",
    "    palette=\"Set2\",\n",
    "    teeplot_subdir=teeplot_subdir,\n",
    ") as g:\n",
    "    g.set(yscale=\"log\")\n",
    "    g.set(ylim=(0, None))\n",
    "    g.set_xlabels(\"Buffer Size\")\n",
    "    g.set_ylabels(\"Memory (bytes)\")\n",
    "    for ax in g.axes.flat:\n",
    "        ax.bar_label(\n",
    "            ax.containers[0],\n",
    "            fmt=\"%d B\",\n",
    "            label_type=\"edge\",\n",
    "            rotation=90,\n",
    "            padding=3,\n",
    "        )\n",
    "        ax.bar_label(\n",
    "            ax.containers[1],\n",
    "            fmt=\"%d B\",\n",
    "            label_type=\"center\",\n",
    "            rotation=90,\n",
    "            color=\"white\",\n",
    "        )\n",
    "    sns.move_legend(\n",
    "        g,\n",
    "        \"lower center\",\n",
    "        bbox_to_anchor=(0.5, 1),\n",
    "        ncol=3,\n",
    "        frameon=False,\n",
    "        title=None,\n",
    "    )\n"
   ]
  },
  {
   "cell_type": "markdown",
   "metadata": {},
   "source": [
    "## relative memory savings\n"
   ]
  },
  {
   "cell_type": "code",
   "execution_count": null,
   "metadata": {},
   "outputs": [],
   "source": [
    "df_memory_savings = (\n",
    "    df.filter(\n",
    "        pl.col(\"algo_name\").is_in([\"dstream.steady_algo\", \"naive_steady_algo\"])\n",
    "    )\n",
    "    .group_by([\"num_items\", \"num_sites\", \"replicate\"])\n",
    "    .agg(\n",
    "        memory_savings=(\n",
    "            pl.col(\"memory_bytes\")\n",
    "            .filter(pl.col(\"algo_name\") == \"naive_steady_algo\")\n",
    "            .mean()\n",
    "            / pl.col(\"memory_bytes\")\n",
    "            .filter(pl.col(\"algo_name\") == \"dstream.steady_algo\")\n",
    "            .mean()\n",
    "        )\n",
    "    )\n",
    ")\n",
    "with pd.option_context(\"display.max_columns\", None):\n",
    "    with pd.option_context(\"display.max_rows\", None):\n",
    "        display(df_memory_savings.group_by([\"num_sites\"]).mean().to_pandas())\n",
    "\n",
    "\n",
    "# Plot savings\n",
    "with tp.teed(\n",
    "    sns.catplot,\n",
    "    data=df_memory_savings.cast({\"num_sites\": str}),\n",
    "    x=\"num_sites\",\n",
    "    y=\"memory_savings\",\n",
    "    kind=\"bar\",\n",
    "    aspect=1.5,\n",
    "    height=2,\n",
    "    teeplot_subdir=teeplot_subdir,\n",
    ") as g:\n",
    "    g.set(ylim=(0, None))\n",
    "    for ax in g.axes.flat:\n",
    "        ax.bar_label(ax.containers[0], fmt=\"$%d\\\\times$\")\n"
   ]
  },
  {
   "cell_type": "markdown",
   "metadata": {},
   "source": [
    "## absolute memory savings\n"
   ]
  },
  {
   "cell_type": "code",
   "execution_count": null,
   "metadata": {},
   "outputs": [],
   "source": [
    "df_memory_savings = (\n",
    "    df.filter(\n",
    "        pl.col(\"algo_name\").is_in([\"dstream.steady_algo\", \"naive_steady_algo\"])\n",
    "    )\n",
    "    .group_by([\"num_items\", \"num_sites\", \"replicate\"])\n",
    "    .agg(\n",
    "        memory_savings=(\n",
    "            pl.col(\"memory_bytes\")\n",
    "            .filter(pl.col(\"algo_name\") == \"naive_steady_algo\")\n",
    "            .mean()\n",
    "            - pl.col(\"memory_bytes\")\n",
    "            .filter(pl.col(\"algo_name\") == \"dstream.steady_algo\")\n",
    "            .mean()\n",
    "        )\n",
    "    )\n",
    ")\n",
    "\n",
    "# Plot savings\n",
    "with tp.teed(\n",
    "    sns.catplot,\n",
    "    data=df_memory_savings.cast({\"num_sites\": str}),\n",
    "    x=\"num_sites\",\n",
    "    y=\"memory_savings\",\n",
    "    kind=\"bar\",\n",
    "    aspect=1.5,\n",
    "    height=2,\n",
    "    teeplot_subdir=teeplot_subdir,\n",
    ") as g:\n",
    "    g.set(ylim=(0, None))\n",
    "    for ax in g.axes.flat:\n",
    "        ax.bar_label(ax.containers[0], fmt=\"%d B\")\n"
   ]
  }
 ],
 "metadata": {
  "kernelspec": {
   "display_name": "env310",
   "language": "python",
   "name": "python3"
  },
  "language_info": {
   "codemirror_mode": {
    "name": "ipython",
    "version": 3
   },
   "file_extension": ".py",
   "mimetype": "text/x-python",
   "name": "python",
   "nbconvert_exporter": "python",
   "pygments_lexer": "ipython3"
  }
 },
 "nbformat": 4,
 "nbformat_minor": 2
}
