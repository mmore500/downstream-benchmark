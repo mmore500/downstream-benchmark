{
 "cells": [
  {
   "cell_type": "code",
   "execution_count": null,
   "metadata": {},
   "outputs": [],
   "source": [
    "%load_ext watermark\n"
   ]
  },
  {
   "cell_type": "code",
   "execution_count": null,
   "metadata": {},
   "outputs": [],
   "source": [
    "import itertools as it\n",
    "import os\n",
    "\n",
    "from downstream import dstream\n",
    "import more_itertools as mit\n",
    "import polars as pl\n",
    "import seaborn as sns\n",
    "from teeplot import teeplot as tp\n",
    "\n",
    "import pylib  # noqa: F401\n"
   ]
  },
  {
   "cell_type": "code",
   "execution_count": null,
   "metadata": {},
   "outputs": [],
   "source": [
    "%watermark -diwmuv -iv\n"
   ]
  },
  {
   "cell_type": "code",
   "execution_count": null,
   "metadata": {},
   "outputs": [],
   "source": [
    "teeplot_subdir = os.environ.get(\n",
    "    \"NOTEBOOK_NAME\", \"2024-10-20-qos-dstream-vs-naive-tilted\"\n",
    ")\n",
    "teeplot_subdir\n"
   ]
  },
  {
   "cell_type": "code",
   "execution_count": null,
   "metadata": {},
   "outputs": [],
   "source": [
    "buffer_size = 64\n",
    "num_items = 10_000\n"
   ]
  },
  {
   "cell_type": "markdown",
   "metadata": {},
   "source": [
    "## Define\n"
   ]
  },
  {
   "cell_type": "code",
   "execution_count": null,
   "metadata": {},
   "outputs": [],
   "source": [
    "def calc_qos_from_segment_lengths(segment_lengths: list[int]) -> float:\n",
    "    segment_total = sum(segment_lengths)\n",
    "    return max(\n",
    "        (segment_length - 1) / ((segment_total - cumulative) or 1)\n",
    "        for cumulative, segment_length in zip(\n",
    "            it.accumulate([0, *segment_lengths]),\n",
    "            [*segment_lengths, 1],\n",
    "        )\n",
    "    )\n"
   ]
  },
  {
   "cell_type": "code",
   "execution_count": null,
   "metadata": {},
   "outputs": [],
   "source": [
    "def calc_max_gaps_naive_doubling_tilted(\n",
    "    buffer_size: int, num_ingests: int\n",
    ") -> list[int]:\n",
    "    segment_lengths = []\n",
    "    max_gaps = [0]\n",
    "    for i in range(num_ingests):\n",
    "\n",
    "        if (len(segment_lengths) == buffer_size):\n",
    "            segment_lengths = [\n",
    "                a + b\n",
    "                for a, b in mit.batched(segment_lengths, 2)\n",
    "            ]\n",
    "        segment_lengths.append(1)\n",
    "\n",
    "        assert sum(segment_lengths) == i + 1\n",
    "        max_gaps.append(calc_qos_from_segment_lengths(segment_lengths))\n",
    "\n",
    "    return max_gaps[:-1]\n"
   ]
  },
  {
   "cell_type": "code",
   "execution_count": null,
   "metadata": {},
   "outputs": [],
   "source": [
    "def calc_max_gaps_dstream(buffer_size: int, num_items: int) -> list[int]:\n",
    "    return [\n",
    "        calc_qos_from_segment_lengths(\n",
    "            [b - a for a, b in mit.pairwise(\n",
    "            sorted(\n",
    "                dstream.tilted_algo.lookup_ingest_times_eager(\n",
    "                    buffer_size, i + 1\n",
    "                ),\n",
    "            ))],\n",
    "        )\n",
    "        if i >= buffer_size\n",
    "        else 0\n",
    "        for i in range(num_items)\n",
    "    ]\n"
   ]
  },
  {
   "cell_type": "markdown",
   "metadata": {},
   "source": [
    "## Example Plot\n"
   ]
  },
  {
   "cell_type": "code",
   "execution_count": null,
   "metadata": {},
   "outputs": [],
   "source": [
    "df = pl.concat(\n",
    "    [\n",
    "        pl.DataFrame(\n",
    "            {\n",
    "                \"Algorithm\": \"naive tilted\",\n",
    "                \"Gap Size Cost\": calc_max_gaps_naive_doubling_tilted(\n",
    "                    buffer_size, num_items\n",
    "                ),\n",
    "                \"Num Items Ingested\": range(num_items),\n",
    "            },\n",
    "            strict=False,\n",
    "        ),\n",
    "        pl.DataFrame(\n",
    "            {\n",
    "                \"Algorithm\": \"dstream tilted\",\n",
    "                \"Gap Size Cost\": calc_max_gaps_dstream(\n",
    "                    buffer_size, num_items\n",
    "                ),\n",
    "                \"Num Items Ingested\": range(num_items),\n",
    "            },\n",
    "            strict=False,\n",
    "        ),\n",
    "    ],\n",
    ")\n"
   ]
  },
  {
   "cell_type": "code",
   "execution_count": null,
   "metadata": {},
   "outputs": [],
   "source": [
    "with tp.teed(\n",
    "    sns.relplot,\n",
    "    df,\n",
    "    x=\"Num Items Ingested\",\n",
    "    y=\"Gap Size Cost\",\n",
    "    hue=\"Algorithm\",\n",
    "    style=\"Algorithm\",\n",
    "    aspect=2,\n",
    "    kind=\"line\",\n",
    "    height=2.2,\n",
    "    palette=\"Set2\",\n",
    "    teeplot_subdir=teeplot_subdir,\n",
    ") as g:\n",
    "    sns.move_legend(\n",
    "        g,\n",
    "        \"lower center\",\n",
    "        bbox_to_anchor=(0.4, 1),\n",
    "        ncol=2,\n",
    "        title=None,\n",
    "        frameon=False,\n",
    "    )\n"
   ]
  }
 ],
 "metadata": {
  "kernelspec": {
   "display_name": "myenv",
   "language": "python",
   "name": "python3"
  },
  "language_info": {
   "codemirror_mode": {
    "name": "ipython",
    "version": 3
   },
   "file_extension": ".py",
   "mimetype": "text/x-python",
   "name": "python",
   "nbconvert_exporter": "python",
   "pygments_lexer": "ipython3"
  }
 },
 "nbformat": 4,
 "nbformat_minor": 2
}
