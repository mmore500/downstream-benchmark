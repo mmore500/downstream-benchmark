{
 "cells": [
  {
   "cell_type": "code",
   "execution_count": 1,
   "metadata": {
    "execution": {
     "iopub.execute_input": "2025-02-24T02:35:51.108984Z",
     "iopub.status.busy": "2025-02-24T02:35:51.108490Z",
     "iopub.status.idle": "2025-02-24T02:35:51.122420Z",
     "shell.execute_reply": "2025-02-24T02:35:51.121905Z"
    }
   },
   "outputs": [],
   "source": [
    "%load_ext watermark\n"
   ]
  },
  {
   "cell_type": "code",
   "execution_count": 2,
   "metadata": {
    "execution": {
     "iopub.execute_input": "2025-02-24T02:35:51.124399Z",
     "iopub.status.busy": "2025-02-24T02:35:51.124217Z",
     "iopub.status.idle": "2025-02-24T02:35:57.771922Z",
     "shell.execute_reply": "2025-02-24T02:35:57.771308Z"
    }
   },
   "outputs": [],
   "source": [
    "import itertools as it\n",
    "import os\n",
    "\n",
    "from downstream import dstream\n",
    "import matplotlib as mpl\n",
    "import more_itertools as mit\n",
    "import polars as pl\n",
    "import seaborn as sns\n",
    "from teeplot import teeplot as tp\n",
    "\n",
    "import pylib  # noqa: F401\n"
   ]
  },
  {
   "cell_type": "code",
   "execution_count": 3,
   "metadata": {
    "execution": {
     "iopub.execute_input": "2025-02-24T02:35:57.774061Z",
     "iopub.status.busy": "2025-02-24T02:35:57.773787Z",
     "iopub.status.idle": "2025-02-24T02:35:57.856539Z",
     "shell.execute_reply": "2025-02-24T02:35:57.855871Z"
    }
   },
   "outputs": [
    {
     "name": "stdout",
     "output_type": "stream",
     "text": [
      "Last updated: 2025-02-24T02:35:57.775108+00:00\n",
      "\n",
      "Python implementation: CPython\n",
      "Python version       : 3.10.12\n",
      "IPython version      : 7.31.1\n",
      "\n",
      "Compiler    : GCC 11.4.0\n",
      "OS          : Linux\n",
      "Release     : 6.5.0-1025-azure\n",
      "Machine     : x86_64\n",
      "Processor   : x86_64\n",
      "CPU cores   : 4\n",
      "Architecture: 64bit\n",
      "\n",
      "seaborn       : 0.13.2\n",
      "pylib         : 0.0.0\n",
      "teeplot       : 1.4.2\n",
      "polars        : 1.9.0\n",
      "more_itertools: 9.1.0\n",
      "downstream    : 1.6.2\n",
      "matplotlib    : 3.10.0\n",
      "\n",
      "Watermark: 2.4.3\n",
      "\n"
     ]
    }
   ],
   "source": [
    "%watermark -diwmuv -iv\n"
   ]
  },
  {
   "cell_type": "code",
   "execution_count": 4,
   "metadata": {
    "execution": {
     "iopub.execute_input": "2025-02-24T02:35:57.883041Z",
     "iopub.status.busy": "2025-02-24T02:35:57.882587Z",
     "iopub.status.idle": "2025-02-24T02:35:57.888662Z",
     "shell.execute_reply": "2025-02-24T02:35:57.888183Z"
    }
   },
   "outputs": [
    {
     "data": {
      "text/plain": [
       "'2025-01-18-qos-dstream-vs-naive-tilted'"
      ]
     },
     "execution_count": 4,
     "metadata": {},
     "output_type": "execute_result"
    }
   ],
   "source": [
    "tp.save[\".pgf\"] = True\n",
    "teeplot_subdir = os.environ.get(\n",
    "    \"NOTEBOOK_NAME\", \"2024-10-20-qos-dstream-vs-naive-tilted\"\n",
    ")\n",
    "teeplot_subdir\n"
   ]
  },
  {
   "cell_type": "code",
   "execution_count": 5,
   "metadata": {
    "execution": {
     "iopub.execute_input": "2025-02-24T02:35:57.890702Z",
     "iopub.status.busy": "2025-02-24T02:35:57.890344Z",
     "iopub.status.idle": "2025-02-24T02:35:57.892950Z",
     "shell.execute_reply": "2025-02-24T02:35:57.892487Z"
    }
   },
   "outputs": [],
   "source": [
    "buffer_size = 64\n",
    "num_items = 10_000\n"
   ]
  },
  {
   "cell_type": "markdown",
   "metadata": {},
   "source": [
    "## Define\n"
   ]
  },
  {
   "cell_type": "code",
   "execution_count": 6,
   "metadata": {
    "execution": {
     "iopub.execute_input": "2025-02-24T02:35:57.894867Z",
     "iopub.status.busy": "2025-02-24T02:35:57.894532Z",
     "iopub.status.idle": "2025-02-24T02:35:57.897984Z",
     "shell.execute_reply": "2025-02-24T02:35:57.897421Z"
    }
   },
   "outputs": [],
   "source": [
    "def calc_qos_from_segment_lengths(segment_lengths: list[int]) -> float:\n",
    "    segment_total = sum(segment_lengths)\n",
    "    return max(\n",
    "        (segment_length - 1) / ((segment_total - cumulative) or 1)\n",
    "        for cumulative, segment_length in zip(\n",
    "            it.accumulate([0, *segment_lengths]),\n",
    "            [*segment_lengths, 1],\n",
    "        )\n",
    "    )\n"
   ]
  },
  {
   "cell_type": "code",
   "execution_count": 7,
   "metadata": {
    "execution": {
     "iopub.execute_input": "2025-02-24T02:35:57.900048Z",
     "iopub.status.busy": "2025-02-24T02:35:57.899634Z",
     "iopub.status.idle": "2025-02-24T02:35:57.903271Z",
     "shell.execute_reply": "2025-02-24T02:35:57.902797Z"
    }
   },
   "outputs": [],
   "source": [
    "def calc_max_gaps_naive_doubling_tilted(\n",
    "    buffer_size: int, num_ingests: int\n",
    ") -> list[int]:\n",
    "    segment_lengths = []\n",
    "    max_gaps = [0]\n",
    "    for i in range(num_ingests):\n",
    "\n",
    "        if (len(segment_lengths) == buffer_size):\n",
    "            segment_lengths = [\n",
    "                a + b\n",
    "                for a, b in mit.batched(segment_lengths, 2)\n",
    "            ]\n",
    "        segment_lengths.append(1)\n",
    "\n",
    "        assert sum(segment_lengths) == i + 1\n",
    "        max_gaps.append(calc_qos_from_segment_lengths(segment_lengths))\n",
    "\n",
    "    return max_gaps[:-1]\n"
   ]
  },
  {
   "cell_type": "code",
   "execution_count": 8,
   "metadata": {
    "execution": {
     "iopub.execute_input": "2025-02-24T02:35:57.904926Z",
     "iopub.status.busy": "2025-02-24T02:35:57.904738Z",
     "iopub.status.idle": "2025-02-24T02:35:57.908017Z",
     "shell.execute_reply": "2025-02-24T02:35:57.907536Z"
    }
   },
   "outputs": [],
   "source": [
    "def calc_max_gaps_dstream(buffer_size: int, num_items: int) -> list[int]:\n",
    "    return [\n",
    "        calc_qos_from_segment_lengths(\n",
    "            [b - a for a, b in mit.pairwise(\n",
    "            sorted(\n",
    "                dstream.tilted_algo.lookup_ingest_times_eager(\n",
    "                    buffer_size, i + 1\n",
    "                ),\n",
    "            ))],\n",
    "        )\n",
    "        if i >= buffer_size\n",
    "        else 0\n",
    "        for i in range(num_items)\n",
    "    ]\n"
   ]
  },
  {
   "cell_type": "markdown",
   "metadata": {},
   "source": [
    "## Example Plot\n"
   ]
  },
  {
   "cell_type": "code",
   "execution_count": 9,
   "metadata": {
    "execution": {
     "iopub.execute_input": "2025-02-24T02:35:57.909721Z",
     "iopub.status.busy": "2025-02-24T02:35:57.909542Z",
     "iopub.status.idle": "2025-02-24T02:36:03.014066Z",
     "shell.execute_reply": "2025-02-24T02:36:03.013499Z"
    }
   },
   "outputs": [],
   "source": [
    "df = pl.concat(\n",
    "    [\n",
    "        pl.DataFrame(\n",
    "            {\n",
    "                \"Algorithm\": \"naive tilted\",\n",
    "                \"Gap Size Cost\": calc_max_gaps_naive_doubling_tilted(\n",
    "                    buffer_size, num_items\n",
    "                ),\n",
    "                \"Num Items Ingested\": range(num_items),\n",
    "            },\n",
    "            strict=False,\n",
    "        ),\n",
    "        pl.DataFrame(\n",
    "            {\n",
    "                \"Algorithm\": \"dstream tilted\",\n",
    "                \"Gap Size Cost\": calc_max_gaps_dstream(\n",
    "                    buffer_size, num_items\n",
    "                ),\n",
    "                \"Num Items Ingested\": range(num_items),\n",
    "            },\n",
    "            strict=False,\n",
    "        ),\n",
    "    ],\n",
    ")\n"
   ]
  },
  {
   "cell_type": "code",
   "execution_count": 10,
   "metadata": {
    "execution": {
     "iopub.execute_input": "2025-02-24T02:36:03.016494Z",
     "iopub.status.busy": "2025-02-24T02:36:03.016046Z",
     "iopub.status.idle": "2025-02-24T02:36:05.488688Z",
     "shell.execute_reply": "2025-02-24T02:36:05.487993Z"
    }
   },
   "outputs": [
    {
     "name": "stdout",
     "output_type": "stream",
     "text": [
      "teeplots/2025-01-18-qos-dstream-vs-naive-tilted/hue=algorithm+kind=line+palette=set2+style=algorithm+viz=relplot+x=num-items-ingested+y=gap-size-cost+ext=.pdf\n",
      "teeplots/2025-01-18-qos-dstream-vs-naive-tilted/hue=algorithm+kind=line+palette=set2+style=algorithm+viz=relplot+x=num-items-ingested+y=gap-size-cost+ext=.pgf\n",
      "teeplots/2025-01-18-qos-dstream-vs-naive-tilted/hue=algorithm+kind=line+palette=set2+style=algorithm+viz=relplot+x=num-items-ingested+y=gap-size-cost+ext=.png\n"
     ]
    },
    {
     "data": {
      "image/png": "[encoded data removed]",
      "text/plain": [
       "<Figure size 588.125x220 with 1 Axes>"
      ]
     },
     "metadata": {},
     "output_type": "display_data"
    },
    {
     "name": "stdout",
     "output_type": "stream",
     "text": [
      "teeplots/2025-01-18-qos-dstream-vs-naive-tilted/font.family=serif+hue=algorithm+kind=line+palette=set2+style=algorithm+viz=relplot+x=num-items-ingested+y=gap-size-cost+ext=.pdf\n",
      "teeplots/2025-01-18-qos-dstream-vs-naive-tilted/font.family=serif+hue=algorithm+kind=line+palette=set2+style=algorithm+viz=relplot+x=num-items-ingested+y=gap-size-cost+ext=.pgf\n",
      "teeplots/2025-01-18-qos-dstream-vs-naive-tilted/font.family=serif+hue=algorithm+kind=line+palette=set2+style=algorithm+viz=relplot+x=num-items-ingested+y=gap-size-cost+ext=.png\n"
     ]
    },
    {
     "data": {
      "image/png": "[encoded data removed]",
      "text/plain": [
       "<Figure size 589.875x220 with 1 Axes>"
      ]
     },
     "metadata": {},
     "output_type": "display_data"
    }
   ],
   "source": [
    "for rc in [{}, {\"font.family\": \"serif\"}]:\n",
    "    with mpl.rc_context(rc=rc):\n",
    "        with tp.teed(\n",
    "            sns.relplot,\n",
    "            df,\n",
    "            x=\"Num Items Ingested\",\n",
    "            y=\"Gap Size Cost\",\n",
    "            hue=\"Algorithm\",\n",
    "            style=\"Algorithm\",\n",
    "            aspect=2,\n",
    "            kind=\"line\",\n",
    "            height=2.2,\n",
    "            palette=\"Set2\",\n",
    "            teeplot_outattrs=rc,\n",
    "            teeplot_subdir=teeplot_subdir,\n",
    "        ) as g:\n",
    "            sns.move_legend(\n",
    "                g,\n",
    "                \"lower center\",\n",
    "                bbox_to_anchor=(0.4, 1),\n",
    "                ncol=2,\n",
    "                title=None,\n",
    "                frameon=False,\n",
    "            )\n"
   ]
  }
 ],
 "metadata": {
  "kernelspec": {
   "display_name": "myenv",
   "language": "python",
   "name": "python3"
  },
  "language_info": {
   "codemirror_mode": {
    "name": "ipython",
    "version": 3
   },
   "file_extension": ".py",
   "mimetype": "text/x-python",
   "name": "python",
   "nbconvert_exporter": "python",
   "pygments_lexer": "ipython3",
   "version": "3.10.12"
  }
 },
 "nbformat": 4,
 "nbformat_minor": 2
}
