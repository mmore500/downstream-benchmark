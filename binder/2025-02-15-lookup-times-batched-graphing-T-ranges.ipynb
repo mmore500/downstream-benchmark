{
 "cells": [
  {
   "cell_type": "code",
   "execution_count": 1,
   "metadata": {
    "execution": {
     "iopub.execute_input": "2025-06-08T00:38:27.581090Z",
     "iopub.status.busy": "2025-06-08T00:38:27.580895Z",
     "iopub.status.idle": "2025-06-08T00:38:34.980737Z",
     "shell.execute_reply": "2025-06-08T00:38:34.980080Z"
    }
   },
   "outputs": [
    {
     "name": "stdout",
     "output_type": "stream",
     "text": [
      "Defaulting to user installation because normal site-packages is not writeable\r\n",
      "Requirement already satisfied: teeplot in /usr/local/lib/python3.10/dist-packages (1.4.2)\r\n",
      "Requirement already satisfied: keyname in /usr/local/lib/python3.10/dist-packages (from teeplot) (0.6.0)\r\n",
      "Requirement already satisfied: matplotlib in /usr/local/lib/python3.10/dist-packages (from teeplot) (3.10.0)\r\n",
      "Requirement already satisfied: python-slugify in /usr/local/lib/python3.10/dist-packages (from teeplot) (8.0.4)\r\n",
      "Requirement already satisfied: distutils-strtobool in /usr/local/lib/python3.10/dist-packages (from teeplot) (0.1.0)\r\n",
      "Requirement already satisfied: typing-extensions in /usr/local/lib/python3.10/dist-packages (from teeplot) (4.12.2)\r\n",
      "Requirement already satisfied: Click>=6.0 in /usr/local/lib/python3.10/dist-packages (from keyname->teeplot) (8.1.8)\r\n",
      "Requirement already satisfied: more-itertools>=8.14.0 in /usr/local/lib/python3.10/dist-packages (from keyname->teeplot) (9.1.0)\r\n",
      "Requirement already satisfied: retry>=0.9.2 in /usr/local/lib/python3.10/dist-packages (from keyname->teeplot) (0.9.2)\r\n",
      "Requirement already satisfied: decorator>=3.4.2 in /usr/local/lib/python3.10/dist-packages (from retry>=0.9.2->keyname->teeplot) (5.2.1)\r\n",
      "Requirement already satisfied: py<2.0.0,>=1.4.26 in /usr/local/lib/python3.10/dist-packages (from retry>=0.9.2->keyname->teeplot) (1.11.0)\r\n",
      "Requirement already satisfied: contourpy>=1.0.1 in /usr/local/lib/python3.10/dist-packages (from matplotlib->teeplot) (1.3.1)\r\n",
      "Requirement already satisfied: cycler>=0.10 in /usr/local/lib/python3.10/dist-packages (from matplotlib->teeplot) (0.12.1)\r\n",
      "Requirement already satisfied: fonttools>=4.22.0 in /usr/local/lib/python3.10/dist-packages (from matplotlib->teeplot) (4.56.0)\r\n",
      "Requirement already satisfied: kiwisolver>=1.3.1 in /usr/local/lib/python3.10/dist-packages (from matplotlib->teeplot) (1.4.8)\r\n",
      "Requirement already satisfied: numpy>=1.23 in /usr/local/lib/python3.10/dist-packages (from matplotlib->teeplot) (2.1.2)\r\n",
      "Requirement already satisfied: packaging>=20.0 in /usr/local/lib/python3.10/dist-packages (from matplotlib->teeplot) (24.2)\r\n",
      "Requirement already satisfied: pillow>=8 in /usr/local/lib/python3.10/dist-packages (from matplotlib->teeplot) (11.1.0)\r\n",
      "Requirement already satisfied: pyparsing>=2.3.1 in /usr/local/lib/python3.10/dist-packages (from matplotlib->teeplot) (3.2.1)\r\n",
      "Requirement already satisfied: python-dateutil>=2.7 in /usr/local/lib/python3.10/dist-packages (from matplotlib->teeplot) (2.9.0.post0)\r\n",
      "Requirement already satisfied: six>=1.5 in /usr/local/lib/python3.10/dist-packages (from python-dateutil>=2.7->matplotlib->teeplot) (1.17.0)\r\n",
      "Requirement already satisfied: text-unidecode>=1.3 in /usr/local/lib/python3.10/dist-packages (from python-slugify->teeplot) (1.3)\r\n",
      "Note: you may need to restart the kernel to use updated packages.\n"
     ]
    }
   ],
   "source": [
    "import pandas as pd\n",
    "import matplotlib.pyplot as plt\n",
    "import seaborn as sns\n",
    "%pip install teeplot\n",
    "from teeplot import teeplot as tp\n",
    "from scipy.stats import kruskal\n",
    "from IPython.display import display\n",
    "\n",
    "\n",
    "# OSF identifier\n",
    "data_id = \"v3ec9\"\n",
    "\n",
    "# load CSV file into DataFrame directly from OSF URL\n",
    "df = pd.read_csv(f\"https://osf.io/{data_id}/download\")\n"
   ]
  },
  {
   "cell_type": "code",
   "execution_count": 2,
   "metadata": {
    "execution": {
     "iopub.execute_input": "2025-06-08T00:38:34.983113Z",
     "iopub.status.busy": "2025-06-08T00:38:34.982900Z",
     "iopub.status.idle": "2025-06-08T00:38:36.058966Z",
     "shell.execute_reply": "2025-06-08T00:38:36.058402Z"
    }
   },
   "outputs": [
    {
     "data": {
      "text/html": [
       "<div>\n",
       "<style scoped>\n",
       "    .dataframe tbody tr th:only-of-type {\n",
       "        vertical-align: middle;\n",
       "    }\n",
       "\n",
       "    .dataframe tbody tr th {\n",
       "        vertical-align: top;\n",
       "    }\n",
       "\n",
       "    .dataframe thead th {\n",
       "        text-align: right;\n",
       "    }\n",
       "</style>\n",
       "<table border=\"1\" class=\"dataframe\">\n",
       "  <thead>\n",
       "    <tr style=\"text-align: right;\">\n",
       "      <th></th>\n",
       "      <th>T Upper Bound</th>\n",
       "      <th>H‑statistic</th>\n",
       "      <th>p‑value</th>\n",
       "    </tr>\n",
       "  </thead>\n",
       "  <tbody>\n",
       "    <tr>\n",
       "      <th>0</th>\n",
       "      <td>steady</td>\n",
       "      <td>0.009</td>\n",
       "      <td>0.924382</td>\n",
       "    </tr>\n",
       "    <tr>\n",
       "      <th>1</th>\n",
       "      <td>stretched</td>\n",
       "      <td>0.196</td>\n",
       "      <td>0.657809</td>\n",
       "    </tr>\n",
       "    <tr>\n",
       "      <th>2</th>\n",
       "      <td>tilted</td>\n",
       "      <td>0.289</td>\n",
       "      <td>0.590676</td>\n",
       "    </tr>\n",
       "  </tbody>\n",
       "</table>\n",
       "</div>"
      ],
      "text/plain": [
       "  T Upper Bound  H‑statistic   p‑value\n",
       "0        steady        0.009  0.924382\n",
       "1     stretched        0.196  0.657809\n",
       "2        tilted        0.289  0.590676"
      ]
     },
     "metadata": {},
     "output_type": "display_data"
    },
    {
     "name": "stdout",
     "output_type": "stream",
     "text": [
      "teeplots/hue=t-upper-bound+palette=paired+viz=plot-mean-real-execution-time+x=algorithm+y=real-time-per-site-ns+ext=.pdf\n",
      "teeplots/hue=t-upper-bound+palette=paired+viz=plot-mean-real-execution-time+x=algorithm+y=real-time-per-site-ns+ext=.png\n"
     ]
    },
    {
     "data": {
      "image/png": "[encoded data removed]",
      "text/plain": [
       "<Figure size 300x200 with 1 Axes>"
      ]
     },
     "metadata": {},
     "output_type": "display_data"
    }
   ],
   "source": [
    "def plot_mean_real_execution_time(data, **kwargs):\n",
    "\n",
    "\n",
    "    # rename the numeric T Upper Bounds\n",
    "    data[\"T Upper Bound\"] = data[\"T Upper Bound\"].replace({\n",
    "        65536: r\"$[0, 2^{16})$\",\n",
    "        4294967296: r\"$[0, 2^{32})$\"\n",
    "    })\n",
    "\n",
    "    # Rename the algorithm labels\n",
    "    data[\"Algorithm\"] = data[\"Algorithm\"].replace({\n",
    "        \"steady_lookup_ingest_times_batched\": \"steady\",\n",
    "        \"stretched_lookup_ingest_times_batched\": \"stretched\",\n",
    "        \"tilted_lookup_ingest_times_batched\": \"tilted\"\n",
    "    })\n",
    "\n",
    "    # convert to microseconds per site\n",
    "    data[\"Real Time Per Site (ns)\"] = (data[\"Real Execution Time\"] * 1e9) / (data[\"Surface Size (S)\"] * data[\"T Size\"])\n",
    "\n",
    "    # group by Algorithm and T Upper Bound, compute the mean per-site time\n",
    "    # grouped = data.groupby([\"Algorithm\", \"T Upper Bound\"], as_index=False)[\"Real Time Per Site (ns)\"].mean()\n",
    "\n",
    "    data_kw = data.copy()\n",
    "\n",
    "    kruskal_results = []\n",
    "    for bound, grp in data_kw.groupby(\"Algorithm\"):\n",
    "        # pull out each algorithm’s vector of times\n",
    "        samples = [\n",
    "            g[\"Real Time Per Site (ns)\"].values\n",
    "            for _, g in grp.groupby(\"T Upper Bound\")\n",
    "        ]\n",
    "        stat, p_val = kruskal(*samples)\n",
    "        kruskal_results.append({\n",
    "            \"T Upper Bound\": bound,\n",
    "            \"H‑statistic\": round(stat, 3),\n",
    "            \"p‑value\": p_val\n",
    "        })\n",
    "\n",
    "    kruskal_df = pd.DataFrame(kruskal_results)\n",
    "    display(kruskal_df)\n",
    "\n",
    "    # bar plot\n",
    "    plt.figure(figsize=(3, 2)) # these are IRL dimensions\n",
    "\n",
    "    # more bar plot\n",
    "    ax = sns.barplot(data=data, **kwargs, alpha=0.85)\n",
    "\n",
    "    # Add labels to each bar\n",
    "    # grab the x‑tick labels so we know which index is which algorithm\n",
    "    algs = [lbl.get_text() for lbl in ax.get_xticklabels()]\n",
    "\n",
    "    for container in ax.containers:\n",
    "        for bar in container:\n",
    "            h = bar.get_height()\n",
    "            if h <= 0:\n",
    "                continue\n",
    "            # label text\n",
    "            txt = f\"{int(h)}\"\n",
    "            # bar center\n",
    "            cx = bar.get_x() + bar.get_width() / 2\n",
    "            cy = bar.get_y() + h / 2\n",
    "\n",
    "            # figure out which algorithm this is by rounding cx to nearest tick\n",
    "            idx = int(round(cx))\n",
    "            alg = algs[idx] if 0 <= idx < len(algs) else None\n",
    "\n",
    "            # nudge 'steady' bars down by 10 units (adjust as needed)\n",
    "            offset = -2 if alg == \"steady\" else 0\n",
    "\n",
    "            ax.text(\n",
    "                cx,\n",
    "                cy + offset,\n",
    "                txt,\n",
    "                ha=\"center\",\n",
    "                va=\"center\",\n",
    "                fontsize=7,\n",
    "                rotation=90,\n",
    "            )\n",
    "\n",
    "    # better readability\n",
    "    plt.xlabel(\"Algorithm\", fontsize=8)\n",
    "    plt.ylabel(\"Real Execution Time (ns)\", fontsize=8)\n",
    "\n",
    "    # keep x-axis labels horizontal\n",
    "    plt.xticks(fontsize=7, rotation=0, ha='center')\n",
    "    plt.yticks(fontsize=8)\n",
    "\n",
    "    # ylim\n",
    "    ax.set_ylim(0, ax.get_ylim()[1] * 1.2)\n",
    "\n",
    "    # legend\n",
    "    plt.legend(title=r\"$T \\in$\", title_fontsize=7, fontsize=7, loc=\"upper left\")\n",
    "\n",
    "    # layout tweaks\n",
    "    plt.subplots_adjust(bottom=0.4)\n",
    "    plt.tight_layout(pad=1)\n",
    "\n",
    "\n",
    "# teeplot\n",
    "tp.tee(plot_mean_real_execution_time, data=df, x=\"Algorithm\", y=\"Real Time Per Site (ns)\", hue=\"T Upper Bound\", palette=\"Paired\")\n"
   ]
  }
 ],
 "metadata": {
  "colab": {
   "provenance": []
  },
  "kernelspec": {
   "display_name": "Python 3",
   "name": "python3"
  },
  "language_info": {
   "codemirror_mode": {
    "name": "ipython",
    "version": 3
   },
   "file_extension": ".py",
   "mimetype": "text/x-python",
   "name": "python",
   "nbconvert_exporter": "python",
   "pygments_lexer": "ipython3",
   "version": "3.10.12"
  }
 },
 "nbformat": 4,
 "nbformat_minor": 0
}
