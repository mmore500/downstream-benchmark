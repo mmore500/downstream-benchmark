{
 "cells": [
  {
   "cell_type": "code",
   "execution_count": 1,
   "metadata": {
    "execution": {
     "iopub.execute_input": "2025-06-01T22:08:47.204122Z",
     "iopub.status.busy": "2025-06-01T22:08:47.203928Z",
     "iopub.status.idle": "2025-06-01T22:08:51.515046Z",
     "shell.execute_reply": "2025-06-01T22:08:51.514396Z"
    }
   },
   "outputs": [
    {
     "name": "stdout",
     "output_type": "stream",
     "text": [
      "Defaulting to user installation because normal site-packages is not writeable\r\n",
      "Requirement already satisfied: teeplot in /usr/local/lib/python3.10/dist-packages (1.4.2)\r\n",
      "Requirement already satisfied: keyname in /usr/local/lib/python3.10/dist-packages (from teeplot) (0.6.0)\r\n",
      "Requirement already satisfied: matplotlib in /usr/local/lib/python3.10/dist-packages (from teeplot) (3.10.0)\r\n",
      "Requirement already satisfied: python-slugify in /usr/local/lib/python3.10/dist-packages (from teeplot) (8.0.4)\r\n",
      "Requirement already satisfied: distutils-strtobool in /usr/local/lib/python3.10/dist-packages (from teeplot) (0.1.0)\r\n",
      "Requirement already satisfied: typing-extensions in /usr/local/lib/python3.10/dist-packages (from teeplot) (4.12.2)\r\n",
      "Requirement already satisfied: Click>=6.0 in /usr/local/lib/python3.10/dist-packages (from keyname->teeplot) (8.1.8)\r\n",
      "Requirement already satisfied: more-itertools>=8.14.0 in /usr/local/lib/python3.10/dist-packages (from keyname->teeplot) (9.1.0)\r\n",
      "Requirement already satisfied: retry>=0.9.2 in /usr/local/lib/python3.10/dist-packages (from keyname->teeplot) (0.9.2)\r\n",
      "Requirement already satisfied: decorator>=3.4.2 in /usr/local/lib/python3.10/dist-packages (from retry>=0.9.2->keyname->teeplot) (5.2.1)\r\n",
      "Requirement already satisfied: py<2.0.0,>=1.4.26 in /usr/local/lib/python3.10/dist-packages (from retry>=0.9.2->keyname->teeplot) (1.11.0)\r\n",
      "Requirement already satisfied: contourpy>=1.0.1 in /usr/local/lib/python3.10/dist-packages (from matplotlib->teeplot) (1.3.1)\r\n",
      "Requirement already satisfied: cycler>=0.10 in /usr/local/lib/python3.10/dist-packages (from matplotlib->teeplot) (0.12.1)\r\n",
      "Requirement already satisfied: fonttools>=4.22.0 in /usr/local/lib/python3.10/dist-packages (from matplotlib->teeplot) (4.56.0)\r\n",
      "Requirement already satisfied: kiwisolver>=1.3.1 in /usr/local/lib/python3.10/dist-packages (from matplotlib->teeplot) (1.4.8)\r\n",
      "Requirement already satisfied: numpy>=1.23 in /usr/local/lib/python3.10/dist-packages (from matplotlib->teeplot) (2.1.2)\r\n",
      "Requirement already satisfied: packaging>=20.0 in /usr/local/lib/python3.10/dist-packages (from matplotlib->teeplot) (24.2)\r\n",
      "Requirement already satisfied: pillow>=8 in /usr/local/lib/python3.10/dist-packages (from matplotlib->teeplot) (11.1.0)\r\n",
      "Requirement already satisfied: pyparsing>=2.3.1 in /usr/local/lib/python3.10/dist-packages (from matplotlib->teeplot) (3.2.1)\r\n",
      "Requirement already satisfied: python-dateutil>=2.7 in /usr/local/lib/python3.10/dist-packages (from matplotlib->teeplot) (2.9.0.post0)\r\n",
      "Requirement already satisfied: six>=1.5 in /usr/local/lib/python3.10/dist-packages (from python-dateutil>=2.7->matplotlib->teeplot) (1.17.0)\r\n",
      "Requirement already satisfied: text-unidecode>=1.3 in /usr/local/lib/python3.10/dist-packages (from python-slugify->teeplot) (1.3)\r\n",
      "Note: you may need to restart the kernel to use updated packages.\n"
     ]
    }
   ],
   "source": [
    "import pandas as pd\n",
    "import matplotlib.pyplot as plt\n",
    "import seaborn as sns\n",
    "%pip install teeplot\n",
    "from teeplot import teeplot as tp\n",
    "from scipy.stats import kruskal\n",
    "from IPython.display import display\n",
    "\n",
    "\n",
    "\n",
    "\n",
    "\n",
    "# OSF identifier\n",
    "data_id = \"v3ec9\"\n",
    "\n",
    "# load CSV file into DataFrame directly from OSF URL\n",
    "df = pd.read_csv(f\"https://osf.io/{data_id}/download\")\n"
   ]
  },
  {
   "cell_type": "code",
   "execution_count": 2,
   "metadata": {
    "execution": {
     "iopub.execute_input": "2025-06-01T22:08:51.517303Z",
     "iopub.status.busy": "2025-06-01T22:08:51.517110Z",
     "iopub.status.idle": "2025-06-01T22:08:52.414790Z",
     "shell.execute_reply": "2025-06-01T22:08:52.414172Z"
    }
   },
   "outputs": [
    {
     "data": {
      "text/html": [
       "<div>\n",
       "<style scoped>\n",
       "    .dataframe tbody tr th:only-of-type {\n",
       "        vertical-align: middle;\n",
       "    }\n",
       "\n",
       "    .dataframe tbody tr th {\n",
       "        vertical-align: top;\n",
       "    }\n",
       "\n",
       "    .dataframe thead th {\n",
       "        text-align: right;\n",
       "    }\n",
       "</style>\n",
       "<table border=\"1\" class=\"dataframe\">\n",
       "  <thead>\n",
       "    <tr style=\"text-align: right;\">\n",
       "      <th></th>\n",
       "      <th>Algorithm</th>\n",
       "      <th>H-statistic</th>\n",
       "      <th>p-value</th>\n",
       "    </tr>\n",
       "  </thead>\n",
       "  <tbody>\n",
       "    <tr>\n",
       "      <th>0</th>\n",
       "      <td>steady</td>\n",
       "      <td>1.335</td>\n",
       "      <td>0.513032</td>\n",
       "    </tr>\n",
       "    <tr>\n",
       "      <th>1</th>\n",
       "      <td>stretched</td>\n",
       "      <td>0.326</td>\n",
       "      <td>0.849665</td>\n",
       "    </tr>\n",
       "    <tr>\n",
       "      <th>2</th>\n",
       "      <td>tilted</td>\n",
       "      <td>2.456</td>\n",
       "      <td>0.292811</td>\n",
       "    </tr>\n",
       "  </tbody>\n",
       "</table>\n",
       "</div>"
      ],
      "text/plain": [
       "   Algorithm  H-statistic   p-value\n",
       "0     steady        1.335  0.513032\n",
       "1  stretched        0.326  0.849665\n",
       "2     tilted        2.456  0.292811"
      ]
     },
     "metadata": {},
     "output_type": "display_data"
    },
    {
     "name": "stdout",
     "output_type": "stream",
     "text": [
      "teeplots/hue=s+viz=plot-mean-real-execution-time+x=algorithm+y=real-time-per-site-ns+ext=.pdf\n",
      "teeplots/hue=s+viz=plot-mean-real-execution-time+x=algorithm+y=real-time-per-site-ns+ext=.png\n"
     ]
    },
    {
     "data": {
      "image/png": "[encoded data removed]",
      "text/plain": [
       "<Figure size 300x200 with 1 Axes>"
      ]
     },
     "metadata": {},
     "output_type": "display_data"
    }
   ],
   "source": [
    "def plot_mean_real_execution_time(data, **kwargs):\n",
    "    df[\"algorithm\"] = df[\"Algorithm\"].replace({\n",
    "        \"steady_lookup_ingest_times_batched\": \"steady\",\n",
    "        \"stretched_lookup_ingest_times_batched\": \"stretched\",\n",
    "        \"tilted_lookup_ingest_times_batched\": \"tilted\",\n",
    "    })\n",
    "\n",
    "    # assign S and Tsize directly\n",
    "    df[\"S\"] = df[\"Surface Size (S)\"]\n",
    "    df[\"Tsize\"] = df[\"T Size\"]\n",
    "\n",
    "    # convert to microseconds per site\n",
    "    df[\"Real Time Per Site (ns)\"] = (df[\"Real Execution Time\"] * 1e9) / (df[\"S\"] * df[\"Tsize\"])\n",
    "\n",
    "    # group by algorithm, S and compute mean per-site time\n",
    "    # grouped = df.groupby([\"algorithm\", \"S\"], as_index=False)[\"Real Time Per Site (ns)\"].mean()\n",
    "\n",
    "    # work off the same data\n",
    "    kruskal_results = []\n",
    "    for algo, grp in df.groupby(\"algorithm\"):\n",
    "        # gather each surface-size’s samples\n",
    "        samples = [g[\"Real Time Per Site (ns)\"].values for _, g in grp.groupby(\"S\")]\n",
    "        if len(samples) > 1:\n",
    "            stat, p_val = kruskal(*samples)\n",
    "        else:\n",
    "            stat, p_val = float('nan'), float('nan')\n",
    "        kruskal_results.append({\n",
    "            \"Algorithm\": algo,\n",
    "            \"H-statistic\": round(stat, 3) if pd.notna(stat) else stat,\n",
    "            \"p-value\": p_val\n",
    "        })\n",
    "    display(pd.DataFrame(kruskal_results))\n",
    "\n",
    "    # bar plot\n",
    "    plt.figure(figsize=(3, 2))  # these are IRL dimensions\n",
    "\n",
    "    # more bar plot\n",
    "    ax = sns.barplot(data=data, **kwargs, alpha=0.85, palette='Wistia')\n",
    "\n",
    "    # add labels to the bars\n",
    "    for container in ax.containers:\n",
    "      for bar in container:\n",
    "          height = bar.get_height()\n",
    "          label = f\"{int(height)}\" if height > 0 else \"\"\n",
    "          x = bar.get_x() + bar.get_width() / 2\n",
    "          y = bar.get_y()\n",
    "\n",
    "          # Calculate bar center\n",
    "          center_y = y + height / 2\n",
    "\n",
    "          # Use x-position to guess algorithm name (assuming order is steady, stretched, tilted)\n",
    "          alg_x = x\n",
    "          if alg_x < 1:  # usually 'steady' bars are first\n",
    "              offset = -4  # nudge down a bit\n",
    "          else:\n",
    "              offset = 0  # normal center\n",
    "\n",
    "          ax.text(\n",
    "              x, center_y + offset, label,\n",
    "              ha='center', va='center', fontsize=7, rotation=90\n",
    "          )\n",
    "\n",
    "\n",
    "    # better readability\n",
    "    plt.xlabel(\"Algorithm\", fontsize=8)\n",
    "    plt.ylabel(\"Per-Site Real Time (ns)\", fontsize=8)\n",
    "\n",
    "    # keep x-axis labels horizontal\n",
    "    plt.xticks(fontsize=7, rotation=0)\n",
    "\n",
    "    plt.yticks(fontsize=8)\n",
    "\n",
    "    # ylim\n",
    "    ax.set_ylim(0, 300)\n",
    "\n",
    "    # legend\n",
    "    plt.legend(title=\"Surface Size\", title_fontsize=7, fontsize=7, loc=\"upper left\")\n",
    "\n",
    "    # layout adjustment\n",
    "    plt.subplots_adjust(bottom=0.4)\n",
    "    plt.tight_layout(pad=1)\n",
    "\n",
    "# teeplot\n",
    "tp.tee(plot_mean_real_execution_time, data=df, x=\"algorithm\", y=\"Real Time Per Site (ns)\", hue=\"S\")\n"
   ]
  }
 ],
 "metadata": {
  "colab": {
   "provenance": []
  },
  "kernelspec": {
   "display_name": "Python 3",
   "name": "python3"
  },
  "language_info": {
   "codemirror_mode": {
    "name": "ipython",
    "version": 3
   },
   "file_extension": ".py",
   "mimetype": "text/x-python",
   "name": "python",
   "nbconvert_exporter": "python",
   "pygments_lexer": "ipython3",
   "version": "3.10.12"
  }
 },
 "nbformat": 4,
 "nbformat_minor": 0
}
