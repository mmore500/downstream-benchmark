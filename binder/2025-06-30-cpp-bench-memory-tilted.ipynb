{
 "cells": [
  {
   "cell_type": "code",
   "execution_count": null,
   "metadata": {},
   "outputs": [],
   "source": [
    "%load_ext watermark\n"
   ]
  },
  {
   "cell_type": "code",
   "execution_count": null,
   "metadata": {},
   "outputs": [],
   "source": [
    "import itertools as it\n",
    "import os\n",
    "\n",
    "from IPython.display import display\n",
    "import matplotlib as mpl\n",
    "import polars as pl\n",
    "import seaborn as sns\n",
    "from slugify import slugify\n",
    "from teeplot import teeplot as tp\n"
   ]
  },
  {
   "cell_type": "code",
   "execution_count": null,
   "metadata": {},
   "outputs": [],
   "source": [
    "%watermark -diwmuv -iv\n"
   ]
  },
  {
   "cell_type": "code",
   "execution_count": null,
   "metadata": {},
   "outputs": [],
   "source": [
    "tp.save[\".pgf\"] = True\n",
    "teeplot_subdir = os.environ.get(\n",
    "    \"NOTEBOOK_NAME\", \"2025-06-01-cpp-bench-memory-native-tilted\"\n",
    ")\n",
    "teeplot_subdir\n"
   ]
  },
  {
   "cell_type": "markdown",
   "metadata": {},
   "source": [
    "## Prep Data\n"
   ]
  },
  {
   "cell_type": "code",
   "execution_count": null,
   "metadata": {},
   "outputs": [],
   "source": [
    "algo_names = {\n",
    "    \"dstream.circular_algo\": \"simple ringbuf\",\n",
    "    \"control_throwaway_algo\": \"no-operation\",\n",
    "    \"dstream.tilted_algo\": \"extended ringbuf\",\n",
    "    \"dstream_tilted_algo\": \"extended ringbuf LUT\",\n",
    "    \"doubling_tilted_algo\": \"naive doubling\",\n",
    "    \"zhao_tilted_algo\": \"pyrimidal bucket\",\n",
    "    \"zhao_tilted_full_algo\": \"saturating bucket\",\n",
    "}\n",
    "\n",
    "\n",
    "df = pl.concat(\n",
    "    [\n",
    "        pl.read_csv(\"https://osf.io/cbqpx/download\"),\n",
    "    ],\n",
    ")\n",
    "print(\"\\n\".join(df[\"algo_name\"].unique().to_list()))\n",
    "df = (\n",
    "    df.cast(\n",
    "        {\n",
    "            \"memory_bytes\": pl.Int32,\n",
    "            \"num_items\": pl.Int32,\n",
    "            \"num_sites\": pl.Int32,\n",
    "            \"duration_s\": pl.Float64,\n",
    "            \"replicate\": pl.Int32,\n",
    "        },\n",
    "    )\n",
    "    .filter(\n",
    "        pl.col(\"algo_name\").is_in(\n",
    "            algo_names.keys(),\n",
    "        ),\n",
    "        pl.col(\"num_items\") == 1_000_000,\n",
    "    )\n",
    "    .with_columns(\n",
    "        algorithm=pl.col(\"algo_name\").map_elements(\n",
    "            algo_names.__getitem__,\n",
    "            return_dtype=str,\n",
    "        ),\n",
    "        num_retained=(\n",
    "            pl.when(pl.col(\"algo_name\") == \"dstream_tilted_algo\")\n",
    "            .then(pl.col(\"num_sites\"))\n",
    "            .when(pl.col(\"algo_name\") == \"doubling_tilted_algo\")\n",
    "            .then(pl.col(\"num_sites\") * 0.75)\n",
    "            .when(pl.col(\"algo_name\") == \"zhao_tilted_algo\")\n",
    "            .then(19)\n",
    "            .when(pl.col(\"algo_name\") == \"zhao_tilted_full_algo\")\n",
    "            .then(pl.col(\"num_sites\"))\n",
    "            .otherwise(pl.col(\"num_sites\"))\n",
    "        )\n",
    "    )\n",
    "    .with_columns(\n",
    "        (pl.col(\"memory_bytes\") / pl.col(\"num_retained\")).alias(\"bytes per item\"),\n",
    "    )\n",
    "    .with_columns(\n",
    "        (8 * pl.col(\"memory_bytes\") / pl.col(\"num_retained\")).alias(\"bits per item\"),\n",
    "    )\n",
    "    .with_columns(pl.col(\"data_type\").alias(\"data type\"))\n",
    ")\n",
    "\n",
    "display(df.describe()), display(df.head()), display(df.tail());\n"
   ]
  },
  {
   "cell_type": "code",
   "execution_count": null,
   "metadata": {},
   "outputs": [],
   "source": [
    "assert (df.group_by(\n",
    "    [\"num_items\", \"num_sites\", \"algorithm\", \"data type\"],\n",
    ").agg(\n",
    "    pl.col(\"memory_bytes\").n_unique(),\n",
    ")[\"memory_bytes\"] == 1).all()\n"
   ]
  },
  {
   "cell_type": "code",
   "execution_count": null,
   "metadata": {},
   "outputs": [],
   "source": [
    "hue_order = [\n",
    "    \"extended ringbuf\",\n",
    "    \"saturating bucket\",\n",
    "    \"pyrimidal bucket\",\n",
    "    # \"extended ringbuf LUT\",\n",
    "    # \"simple ringbuf\",\n",
    "    \"naive doubling\",\n",
    "]\n"
   ]
  },
  {
   "cell_type": "code",
   "execution_count": null,
   "metadata": {},
   "outputs": [],
   "source": [
    "palette = sns.color_palette(\"muted\")\n",
    "palette_assignments = {\n",
    "    \"extended ringbuf\": palette[0],\n",
    "    \"extended ringbuf LUT\": palette[1],\n",
    "    \"saturating bucket\": palette[2],\n",
    "    \"pyrimidal bucket\": palette[3],\n",
    "    \"simple ringbuf\": palette[4],\n",
    "    \"naive doubling\": palette[5],\n",
    "    \"no-operation\": palette[6],\n",
    "}\n"
   ]
  },
  {
   "cell_type": "markdown",
   "metadata": {},
   "source": [
    "## Plot\n"
   ]
  },
  {
   "cell_type": "markdown",
   "metadata": {},
   "source": [
    "## Memory Use\n"
   ]
  },
  {
   "cell_type": "code",
   "execution_count": null,
   "metadata": {},
   "outputs": [],
   "source": [
    "for unit, mark, excl, rc in it.product(\n",
    "    [\"bits\", \"bytes\"],\n",
    "    [True, False],\n",
    "    [[], [\"pyrimidal bucket\"]],\n",
    "    [{}, {\"font.family\": \"serif\"}],\n",
    "):\n",
    "    excl_hue_order = [hue for hue in hue_order if hue not in excl]\n",
    "    with mpl.rc_context(rc=rc):\n",
    "        with tp.teed(\n",
    "            sns.catplot,\n",
    "            data=df.filter(\n",
    "                pl.col(\"num_items\") == 1_000_000,\n",
    "            ),\n",
    "            x=\"num_sites\",\n",
    "            y=f\"{unit} per item\",\n",
    "            hue=\"algorithm\",\n",
    "            hue_order=excl_hue_order,\n",
    "            col=\"data type\",\n",
    "            col_wrap=2,\n",
    "            col_order=[\"bit\", \"byte\", \"word\", \"double word\"],\n",
    "            kind=\"bar\",\n",
    "            errorbar=(\"pi\", 100),\n",
    "            margin_titles=True,\n",
    "            aspect=2,\n",
    "            height=1.6,\n",
    "            palette=[*map(palette_assignments.get, excl_hue_order)],\n",
    "            sharex=True,\n",
    "            sharey=False,\n",
    "            teeplot_outattrs={\n",
    "                \"excl\": slugify(\"-\".join(excl)),\n",
    "                \"mark\": mark,\n",
    "            },\n",
    "            teeplot_subdir=teeplot_subdir,\n",
    "        ) as g:\n",
    "            g.set(ylim=(0, None))\n",
    "            g.set_titles(col_template=\"{col_name} dtype\")\n",
    "            g.set_xlabels(\"Buffer Capacity (item count)\")\n",
    "            g.set_ylabels(f\"Memory per Item\\n({unit})\")\n",
    "            sns.move_legend(\n",
    "                g,\n",
    "                \"lower center\",\n",
    "                bbox_to_anchor=(0.4, 0.95),\n",
    "                columnspacing=0.7,\n",
    "                labelspacing=0.2,\n",
    "                ncol=4,\n",
    "                frameon=False,\n",
    "                title=None,\n",
    "            )\n",
    "            for idx, ax in enumerate(g.axes.flat):\n",
    "                ax.set_ylim(0, ax.get_ylim()[1] * 1.6)\n",
    "                for container in ax.containers:\n",
    "                    ax.bar_label(\n",
    "                        container,\n",
    "                        fmt=\" %.1f\",\n",
    "                        label_type=\"edge\",\n",
    "                        rotation=90,\n",
    "                        padding=2,\n",
    "                    )\n",
    "                if mark:\n",
    "                    unit_scale = {\"bits\": 1, \"bytes\": 1 / 8}[unit]\n",
    "                    bits = [1, 8, 16, 32][idx]\n",
    "                    ax.axhline(\n",
    "                        bits * unit_scale,\n",
    "                        color=\"k\",\n",
    "                        linestyle=\"--\",\n",
    "                    )\n"
   ]
  }
 ],
 "metadata": {
  "kernelspec": {
   "display_name": "Python 3",
   "language": "python",
   "name": "python3"
  },
  "language_info": {
   "codemirror_mode": {
    "name": "ipython",
    "version": 3
   },
   "file_extension": ".py",
   "mimetype": "text/x-python",
   "name": "python",
   "nbconvert_exporter": "python",
   "pygments_lexer": "ipython3"
  }
 },
 "nbformat": 4,
 "nbformat_minor": 2
}
